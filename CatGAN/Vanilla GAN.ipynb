{
 "cells": [
  {
   "cell_type": "code",
   "execution_count": 1,
   "metadata": {
    "collapsed": true
   },
   "outputs": [],
   "source": [
    "import tensorflow as tf\n",
    "import numpy as np\n",
    "\n",
    "from matplotlib import pyplot as plt\n",
    "%matplotlib inline"
   ]
  },
  {
   "cell_type": "code",
   "execution_count": 91,
   "metadata": {
    "collapsed": true
   },
   "outputs": [],
   "source": [
    "class Generator(object):\n",
    "    def __init__(self, n_input = 100, n_hidden_1 = 300, n_hidden_2 = 300, n_out = 2):\n",
    "        # tf Graph input\n",
    "        z = tf.placeholder(\"float\", [None, n_input])\n",
    "        self.z = z\n",
    "        \n",
    "        # Network Parameters\n",
    "        self.n_input = n_input\n",
    "        self.n_hidden_1 = n_hidden_1 # 1st layer number of features\n",
    "        self.n_hidden_2 = n_hidden_2 # 2nd layer number of features\n",
    "        self.n_out = n_out\n",
    "        \n",
    "        # Store layers weight & bias\n",
    "        weights = {\n",
    "            'h1': tf.Variable(tf.random_normal([n_input, n_hidden_1])),\n",
    "            'h2': tf.Variable(tf.random_normal([n_hidden_1, n_hidden_2])),\n",
    "            'out': tf.Variable(tf.random_normal([n_hidden_2, n_out]))\n",
    "        }\n",
    "        biases = {\n",
    "            'b1': tf.Variable(tf.random_normal([n_hidden_1])),\n",
    "            'b2': tf.Variable(tf.random_normal([n_hidden_2])),\n",
    "            'out': tf.Variable(tf.random_normal([n_out]))\n",
    "        }\n",
    "        self.weights = weights\n",
    "        self.biases = biases\n",
    "        \n",
    "        # Create model\n",
    "        # Hidden layer with sigmoid activation\n",
    "        layer_1 = tf.add(tf.matmul(self.z, weights['h1']), biases['b1'])\n",
    "        layer_1 = tf.nn.relu(layer_1)\n",
    "        # Hidden layer with sigmoid activation\n",
    "        layer_2 = tf.add(tf.matmul(layer_1, weights['h2']), biases['b2'])\n",
    "        layer_2 = tf.nn.relu(layer_2)\n",
    "        # Output layer with linear activation\n",
    "        out_layer = tf.matmul(layer_2, weights['out']) + biases['out']\n",
    "        \n",
    "        self.layer_1 = layer_1\n",
    "        self.layer_2 = layer_2\n",
    "        self.out_layer = out_layer\n",
    "        \n",
    "        # Initializing the variables\n",
    "        init = tf.global_variables_initializer()\n",
    "\n",
    "        # Launch the graph\n",
    "        self.sess = tf.Session()\n",
    "        with self.sess.as_default():\n",
    "            self.sess.run(init)\n",
    "        \n",
    "    def sample(self, n):\n",
    "        with self.sess.as_default():\n",
    "            z = np.random.uniform(size = (n, self.n_input))\n",
    "            Gx = self.out_layer.eval({self.z: z})\n",
    "        return(Gx)"
   ]
  },
  {
   "cell_type": "code",
   "execution_count": 92,
   "metadata": {},
   "outputs": [
    {
     "data": {
      "text/plain": [
       "<matplotlib.collections.PathCollection at 0x7f5d4842b400>"
      ]
     },
     "execution_count": 92,
     "metadata": {},
     "output_type": "execute_result"
    },
    {
     "data": {
      "image/png": "[encoded data removed]",
      "text/plain": [
       "<matplotlib.figure.Figure at 0x7f5d486869e8>"
      ]
     },
     "metadata": {},
     "output_type": "display_data"
    }
   ],
   "source": [
    "gen = Generator()\n",
    "Gx = gen.sample(1000)\n",
    "plt.scatter(Gx[:,0], Gx[:,1])"
   ]
  },
  {
   "cell_type": "code",
   "execution_count": 93,
   "metadata": {
    "collapsed": true
   },
   "outputs": [],
   "source": [
    "class MLP(object):\n",
    "    def __init__(self, n_input = 2, n_hidden_1 = 300, n_hidden_2 = 300, n_classes = 2):\n",
    "        # tf Graph input\n",
    "        x = tf.placeholder(\"float\", [None, n_input])\n",
    "        y = tf.placeholder(\"float\", [None, n_classes])\n",
    "        self.x = x\n",
    "        self.y = y\n",
    "        \n",
    "        # Network Parameters\n",
    "        self.n_input = n_input\n",
    "        self.n_hidden_1 = n_hidden_1 # 1st layer number of features\n",
    "        self.n_hidden_2 = n_hidden_2 # 2nd layer number of features\n",
    "        self.n_classes = n_classes\n",
    "        \n",
    "        # Store layers weight & bias\n",
    "        weights = {\n",
    "            'h1': tf.Variable(tf.random_normal([n_input, n_hidden_1])),\n",
    "            'h2': tf.Variable(tf.random_normal([n_hidden_1, n_hidden_2])),\n",
    "            'out': tf.Variable(tf.random_normal([n_hidden_2, n_classes]))\n",
    "        }\n",
    "        biases = {\n",
    "            'b1': tf.Variable(tf.random_normal([n_hidden_1])),\n",
    "            'b2': tf.Variable(tf.random_normal([n_hidden_2])),\n",
    "            'out': tf.Variable(tf.random_normal([n_classes]))\n",
    "        }\n",
    "        self.weights = weights\n",
    "        self.biases = biases\n",
    "        \n",
    "        # Create model\n",
    "        # Hidden layer with sigmoid activation\n",
    "        layer_1 = tf.add(tf.matmul(x, weights['h1']), biases['b1'])\n",
    "        layer_1 = tf.nn.sigmoid(layer_1)\n",
    "        # Hidden layer with sigmoid activation\n",
    "        layer_2 = tf.add(tf.matmul(layer_1, weights['h2']), biases['b2'])\n",
    "        layer_2 = tf.nn.sigmoid(layer_2)\n",
    "        # Output layer with linear activation\n",
    "        out_layer = tf.matmul(layer_2, weights['out']) + biases['out']\n",
    "        \n",
    "        self.layer_1 = layer_1\n",
    "        self.layer_2 = layer_2\n",
    "        self.out_layer = out_layer\n",
    "        \n",
    "    def train(self, X, Y, learning_rate = 0.001, training_epochs = 300, batch_size = 10, display_step = 30):\n",
    "        N = len(X)\n",
    "        \n",
    "        # Define loss and optimizer\n",
    "        cost = tf.reduce_mean(tf.nn.softmax_cross_entropy_with_logits(logits=self.out_layer, labels=self.y))\n",
    "        optimizer = tf.train.AdamOptimizer(learning_rate=learning_rate).minimize(cost)\n",
    "        \n",
    "        # Initializing the variables\n",
    "        init = tf.global_variables_initializer()\n",
    "\n",
    "        # Launch the graph\n",
    "        sess = tf.Session()\n",
    "        self.sess = sess\n",
    "        with sess.as_default():\n",
    "            sess.run(init)\n",
    "            # Training cycle\n",
    "            for epoch in range(training_epochs):\n",
    "                avg_cost = 0.\n",
    "                total_batch = int(N/batch_size)\n",
    "                # Loop over all batches\n",
    "                for i in range(total_batch):\n",
    "                    batch_x = X[i * batch_size : (i+1) * batch_size,:]\n",
    "                    batch_y = Y[i * batch_size : (i+1) * batch_size]\n",
    "                    # Run optimization op (backprop) and cost op (to get loss value)\n",
    "                    _, c = sess.run([optimizer, cost], feed_dict={self.x: batch_x,\n",
    "                                                                  self.y: batch_y})\n",
    "                    # Compute average loss\n",
    "                    avg_cost += c / total_batch\n",
    "                # Display logs per epoch step\n",
    "                if epoch % display_step == 0:\n",
    "                    print(\"Epoch:\", '%04d' % (epoch+1), \"cost=\", \\\n",
    "                        \"{:.9f}\".format(avg_cost))\n",
    "            print(\"Optimization Finished!\")\n",
    "\n",
    "    def predict(self, X):\n",
    "        with self.sess.as_default():\n",
    "            prediction = tf.argmax(self.out_layer, 1).eval({self.x: X})\n",
    "        return(prediction)\n",
    "    \n",
    "    def project(self, X):\n",
    "        with self.sess.as_default():\n",
    "            projection = self.layer_2.eval({self.x: X})\n",
    "        return(projection)"
   ]
  },
  {
   "cell_type": "code",
   "execution_count": null,
   "metadata": {
    "collapsed": true
   },
   "outputs": [],
   "source": [
    "class GAN(object):\n",
    "    def __init__(self,\n",
    "                 gen_n_input = 100, gen_n_hidden_1 = 300, gen_n_hidden_2 = 300, gen_n_out = 2,\n",
    "                 crit_n_input = 2, crit_n_hidden_1 = 300, crit_n_hidden_2 = 300, crit_n_classes = 2):\n",
    "       \n",
    "        gen = Generator(n_input = gen_n_input, n_hidden_1 = gen_n_hidden_1, \n",
    "                        n_hidden_2 = gen_n_hidden_2, n_out = gen_n_out)\n",
    "        \n",
    "        crit = MLP(n_input = crit_n_input, n_hidden_1 = crit_n_hidden_1, \n",
    "                   n_hidden_2 = crit_n_hidden_2, n_classes = crit_n_classes)\n",
    "        \n",
    "        "
   ]
  }
 ],
 "metadata": {
  "kernelspec": {
   "display_name": "Python 3",
   "language": "python",
   "name": "python3"
  },
  "language_info": {
   "codemirror_mode": {
    "name": "ipython",
    "version": 3
   },
   "file_extension": ".py",
   "mimetype": "text/x-python",
   "name": "python",
   "nbconvert_exporter": "python",
   "pygments_lexer": "ipython3",
   "version": "3.6.0"
  }
 },
 "nbformat": 4,
 "nbformat_minor": 2
}

{
 "cells": [
  {
   "cell_type": "code",
   "execution_count": 24,
   "metadata": {
    "collapsed": true
   },
   "outputs": [],
   "source": [
    "import tensorflow as tf\n",
    "from tensorflow.contrib.layers import xavier_initializer\n",
    "import numpy as np\n",
    "\n",
    "from matplotlib import pyplot as plt\n",
    "%matplotlib inline\n",
    "\n",
    "\n",
    "import sys\n",
    "sys.path.append('/home/hudson/Projects/Tensorflow-GAN')\n",
    "from lib.utils import log_progress\n",
    "\n",
    "from sklearn.datasets import fetch_mldata\n",
    "mnist = fetch_mldata('MNIST original', data_home=\"MNIST\")"
   ]
  },
  {
   "cell_type": "code",
   "execution_count": 25,
   "metadata": {
    "collapsed": true
   },
   "outputs": [],
   "source": [
    "# N = 1000\n",
    "data = mnist.data[(mnist.target == 3) | (mnist.target == 9)]\n",
    "# data = data[np.random.randint(data.shape[0],size=N)]"
   ]
  },
  {
   "cell_type": "code",
   "execution_count": 26,
   "metadata": {
    "collapsed": true
   },
   "outputs": [],
   "source": [
    "def show_image(mnist_image, ax = None):\n",
    "    if ax is None:\n",
    "        fig, ax = plt.subplots()\n",
    "    ax.imshow(mnist_image.reshape(28,28), cmap='gray')"
   ]
  },
  {
   "cell_type": "code",
   "execution_count": 27,
   "metadata": {
    "scrolled": false
   },
   "outputs": [
    {
     "data": {
      "image/png": "[encoded data removed]",
      "text/plain": [
       "<matplotlib.figure.Figure at 0x7f250e2bc278>"
      ]
     },
     "metadata": {},
     "output_type": "display_data"
    },
    {
     "data": {
      "image/png": "[encoded data removed]",
      "text/plain": [
       "<matplotlib.figure.Figure at 0x7f250d5986d8>"
      ]
     },
     "metadata": {},
     "output_type": "display_data"
    },
    {
     "data": {
      "image/png": "[encoded data removed]",
      "text/plain": [
       "<matplotlib.figure.Figure at 0x7f250d57b048>"
      ]
     },
     "metadata": {},
     "output_type": "display_data"
    }
   ],
   "source": [
    "for i in range(3):\n",
    "    j = np.random.randint(data.shape[0])\n",
    "    show_image(data[j])"
   ]
  },
  {
   "cell_type": "code",
   "execution_count": 28,
   "metadata": {
    "collapsed": true
   },
   "outputs": [],
   "source": [
    "epsilon = 1e-7\n",
    "def entropy(pk):\n",
    "    clipped = tf.clip_by_value(pk, epsilon, 1 - epsilon)\n",
    "    return -tf.reduce_sum(pk*tf.log(clipped))"
   ]
  },
  {
   "cell_type": "code",
   "execution_count": 29,
   "metadata": {
    "collapsed": true
   },
   "outputs": [],
   "source": [
    "def make_gen(n_input = 100, n_classes = 2, n_hidden_1 = 100, n_hidden_2 = 100, n_out = 784,\n",
    "             random_seed = None):\n",
    "    #Initializer\n",
    "    xavier_init = xavier_initializer(seed = random_seed)\n",
    "    \n",
    "    # Network Parameters\n",
    "    gen_params = {}\n",
    "    gen_params['n_classes'] = n_classes\n",
    "    gen_params['n_input'] = n_input\n",
    "    gen_params['n_hidden_1'] = n_hidden_1 # 1st layer number of features\n",
    "    gen_params['n_hidden_2'] = n_hidden_2 # 2nd layer number of features\n",
    "    gen_params['n_out'] = n_out\n",
    "\n",
    "    # Store layers weight & bias\n",
    "    gen_params['weights'] = {\n",
    "        'w1': tf.Variable(xavier_init([n_input+n_classes, n_hidden_1]), name = 'g_w1'),\n",
    "        'w2': tf.Variable(xavier_init([n_hidden_1, n_hidden_2]), name = 'g_w2'),\n",
    "        'w_out': tf.Variable(xavier_init([n_hidden_2, n_out]), name = 'g_w_out')\n",
    "    }\n",
    "    gen_params['biases'] = {\n",
    "        'b1': tf.Variable(xavier_init([n_hidden_1]), name = 'g_b1'),\n",
    "        'b2': tf.Variable(xavier_init([n_hidden_2]), name = 'g_b1'),\n",
    "        'b_out': tf.Variable(xavier_init([n_out]), name = 'g_b_out')\n",
    "    }\n",
    "    \n",
    "    #return parameter dict\n",
    "    return(gen_params)\n",
    "\n",
    "def make_disc(n_input = 784, n_hidden_1 = 100, n_hidden_2 = 100, n_classes=2,\n",
    "             random_seed = None):\n",
    "    #Initializer\n",
    "    xavier_init = xavier_initializer(seed = random_seed)\n",
    "    \n",
    "    # Network Parameters\n",
    "    disc_params = {}\n",
    "    disc_params['n_input'] = n_input\n",
    "    disc_params['n_hidden_1'] = n_hidden_1 # 1st layer number of features\n",
    "    disc_params['n_hidden_2'] = n_hidden_2 # 2nd layer number of features\n",
    "    disc_params['n_classes'] = n_classes\n",
    "\n",
    "    # Store layers weight & bias\n",
    "    disc_params['weights'] = {\n",
    "        'w1': tf.Variable(xavier_init([n_input, n_hidden_1]), name = 'd_w1'),\n",
    "        'w2': tf.Variable(xavier_init([n_hidden_1, n_hidden_2]), name = 'd_w2'),\n",
    "        'w_out': tf.Variable(xavier_init([n_hidden_2, n_classes]), name = 'd_w_out')\n",
    "    }\n",
    "    disc_params['biases'] = {\n",
    "        'b1': tf.Variable(xavier_init([n_hidden_1]), name = 'd_b1'),\n",
    "        'b2': tf.Variable(xavier_init([n_hidden_2]), name = 'd_b1'),\n",
    "        'b_out': tf.Variable(xavier_init([n_classes]), name = 'd_b_out')\n",
    "    }\n",
    "    \n",
    "    #return parameter dict\n",
    "    return(disc_params)"
   ]
  },
  {
   "cell_type": "code",
   "execution_count": 30,
   "metadata": {
    "collapsed": true
   },
   "outputs": [],
   "source": [
    "class GAN(object):\n",
    "    def __init__(self, gen_params = None, disc_params = None,\n",
    "                 random_seed = None):\n",
    "        \n",
    "        #Generator params, may pass optional initialization\n",
    "        gen_params = gen_params if gen_params is not None else make_gen(random_seed = random_seed)\n",
    "        self.gen_params = gen_params\n",
    "        \n",
    "        z_dim = gen_params['n_input']\n",
    "        self.z_dim = z_dim\n",
    "        g_theta = [theta for theta in gen_params['weights'].values()] + \\\n",
    "                  [theta for theta in gen_params['biases'].values()]\n",
    "        self.g_theta = g_theta\n",
    "            \n",
    "        #Discriminator params, may pass optional initialization\n",
    "        disc_params = disc_params if disc_params is not None else make_disc(random_seed = random_seed)\n",
    "        self.disc_params = disc_params\n",
    "        \n",
    "        x_dim = disc_params['n_input']\n",
    "        d_theta = [theta for theta in disc_params['weights'].values()] + \\\n",
    "                  [theta for theta in disc_params['biases'].values()]\n",
    "        self.d_theta = d_theta\n",
    "            \n",
    "        #GAN graph\n",
    "        X = tf.placeholder(tf.float32, shape=[None, x_dim], name='X')\n",
    "        self.X = X\n",
    "        Z = tf.placeholder(tf.float32, shape=[None, z_dim], name='Z')\n",
    "        self.Z = Z\n",
    "        I = tf.placeholder(tf.float32, shape=[None, gen_params['n_classes']], name='I')\n",
    "        self.I = I\n",
    "        \n",
    "        G_X = self.gen(Z, I)\n",
    "        \n",
    "        D_logit_real, D_real = self.disc(X)\n",
    "        self.D_logit_real = D_logit_real\n",
    "        self.D_real = D_real\n",
    "        \n",
    "        D_logit_fake, D_fake = self.disc(G_X)\n",
    "        self.D_logit_fake = D_logit_fake\n",
    "        self.D_fake = D_fake\n",
    "        \n",
    "        #Session\n",
    "        sess = tf.Session()\n",
    "        self.sess = sess\n",
    "        \n",
    "        # Initializing the variables\n",
    "        init = tf.global_variables_initializer()\n",
    "        with sess.as_default():\n",
    "            sess.run(init)\n",
    "        self.initialized=set(tf.global_variables())\n",
    "        \n",
    "\n",
    "    #Generator and discriminator models\n",
    "    def gen(self, z, i):\n",
    "        input_vec = tf.concat((z, i), 1)\n",
    "        \n",
    "        #Params\n",
    "        weights = self.gen_params['weights']\n",
    "        biases = self.gen_params['biases']\n",
    "        \n",
    "        #Graph\n",
    "        g_h1 = tf.nn.relu(tf.matmul(input_vec, weights['w1']) + biases['b1'])\n",
    "        g_h2 = tf.nn.relu(tf.matmul(g_h1, weights['w2']) + biases['b2'])\n",
    "        # Output layer with linear activation\n",
    "        g_out = tf.matmul(g_h2, weights['w_out']) + biases['b_out']\n",
    "        \n",
    "        return(g_out)\n",
    "    \n",
    "    def disc(self, x):\n",
    "        #Params\n",
    "        weights = self.disc_params['weights']\n",
    "        biases = self.disc_params['biases']\n",
    "        \n",
    "        #Graph\n",
    "        d_h1 = tf.nn.relu(tf.matmul(x, weights['w1']) + biases['b1'])\n",
    "        d_h2 = tf.nn.relu(tf.matmul(d_h1, weights['w2']) + biases['b2'])\n",
    "        # Logit\n",
    "        d_logit = tf.matmul(d_h2, weights['w_out']) + biases['b_out']\n",
    "        #Probability\n",
    "        d_prob = tf.nn.softmax(d_logit)\n",
    "        \n",
    "        return(d_logit, d_prob)\n",
    "    \n",
    "    def sample_Z(self, m):\n",
    "        return np.random.uniform(-1., 1., size=[m, self.z_dim]).astype('float32')\n",
    "    \n",
    "    def sample_G(self, m, i):\n",
    "        return self.gen(self.sample_Z(m), i)\n",
    "    \n",
    "    def train(self, x, lamb = .1, learning_rate = 0.001, training_epochs = 300, mb_size = 64, display_step = 30):\n",
    "        sess = self.sess\n",
    "        \n",
    "        N = len(x)\n",
    "        n_batches = N // mb_size\n",
    "        \n",
    "        #Losses\n",
    "        D_loss = (\n",
    "            tf.reduce_mean(tf.map_fn(entropy, self.D_real))     #Certain of class assignments for real samples\n",
    "            - entropy(tf.reduce_mean(self.D_real, 0))           #Use all classes equally\n",
    "            - tf.reduce_mean(tf.map_fn(entropy, self.D_fake))   #Uncertain of class assignments for fake samples\n",
    "        )\n",
    "        \n",
    "        G_loss = (\n",
    "            tf.reduce_mean(tf.map_fn(entropy, self.D_fake))     #Certain of class assignments for fake samples\n",
    "            - entropy(tf.reduce_mean(self.D_fake, 0))           #Use all classes equally\n",
    "                                                                #Separate gen representations of classes\n",
    "            + lamb * tf.reduce_mean(tf.nn.softmax_cross_entropy_with_logits(labels=self.I, logits=self.D_logit_fake))\n",
    "        )\n",
    "        \n",
    "        #Optimizers\n",
    "        D_solver = tf.train.RMSPropOptimizer(learning_rate = learning_rate).minimize(D_loss, var_list=self.d_theta)\n",
    "        G_solver = tf.train.RMSPropOptimizer(learning_rate = learning_rate).minimize(G_loss, var_list=self.g_theta)\n",
    "        \n",
    "        #Training initialization\n",
    "        init_train = tf.variables_initializer(set(tf.global_variables()) - self.initialized)\n",
    "        \n",
    "        with sess.as_default():\n",
    "            sess.run(init_train)\n",
    "            self.initialized=set(tf.global_variables())\n",
    "            \n",
    "            D_losses = []\n",
    "            G_losses = []\n",
    "            for epoch in log_progress(range(training_epochs), every = 1, name='Epoch'):\n",
    "                try:\n",
    "                    D_loss_avg = 0\n",
    "                    G_loss_avg = 0\n",
    "                    if epoch % display_step == 0:\n",
    "\n",
    "                        f, (ax1, ax2, ax3) = plt.subplots(1, 3, figsize=(9, 3))\n",
    "                        \n",
    "                        i = np.zeros((1*self.gen_params['n_classes'], self.gen_params['n_classes'])).astype('float32')\n",
    "                        for j in range(self.gen_params['n_classes']):\n",
    "                            i[j*1:(j+1)*1,j] = 1\n",
    "                        G_x = self.sample_G(self.gen_params['n_classes']*1,i).eval(session = self.sess)\n",
    "\n",
    "                        show_image(G_x[0], ax1)\n",
    "                        show_image(G_x[1], ax2)\n",
    "                        \n",
    "                        ax3.plot(D_losses, label = \"D_loss\")\n",
    "                        ax3.plot(G_losses, label = \"G_loss\")\n",
    "                        ax3.set_title(\"Loss\")\n",
    "                        ax3.set_xlabel(\"Epoch\")\n",
    "                        ax3.set_ylabel(\"Loss\")\n",
    "                        ax3.legend()\n",
    "                        \n",
    "                        plt.show()\n",
    "\n",
    "                    for batch in range(n_batches):\n",
    "                        X_mb = x[(batch*mb_size):((batch+1)*mb_size), :]\n",
    "\n",
    "                        nk = mb_size * self.gen_params['n_classes']\n",
    "                        for j in range(self.gen_params['n_classes']):\n",
    "                            i = np.zeros((nk, self.gen_params['n_classes'])).astype('float32')\n",
    "                            i[j*mb_size:(j+1)*mb_size,j] = 1\n",
    "                        \n",
    "                        _, D_loss_curr = sess.run([D_solver, D_loss], feed_dict={self.X: X_mb, self.Z: self.sample_Z(nk), self.I:i})\n",
    "                        _, G_loss_curr = sess.run([G_solver, G_loss], feed_dict={self.Z: self.sample_Z(nk), self.I:i})\n",
    "\n",
    "                        D_loss_avg = D_loss_avg + D_loss_curr/n_batches\n",
    "                        G_loss_avg = G_loss_avg + G_loss_curr/n_batches\n",
    "                    D_losses.append(D_loss_avg)\n",
    "                    G_losses.append(G_loss_avg)\n",
    "                except KeyboardInterrupt:\n",
    "                    plt.figure()\n",
    "                    plt.plot(D_losses, label = \"D_loss\")\n",
    "                    plt.plot(G_losses, label = \"G_loss\")\n",
    "                    plt.title(\"Loss\")\n",
    "                    plt.xlabel(\"Epoch\")\n",
    "                    plt.ylabel(\"Loss\")\n",
    "                    plt.legend()\n",
    "                    raise\n",
    "            \n",
    "            plt.figure()\n",
    "            plt.plot(D_losses, label = \"D_loss\")\n",
    "            plt.plot(G_losses, label = \"G_loss\")\n",
    "            plt.title(\"Loss\")\n",
    "            plt.xlabel(\"Epoch\")\n",
    "            plt.ylabel(\"Loss\")\n",
    "            plt.legend()"
   ]
  },
  {
   "cell_type": "code",
   "execution_count": 34,
   "metadata": {
    "scrolled": false
   },
   "outputs": [
    {
     "data": {
      "image/png": "[encoded data removed]",
      "text/plain": [
       "<matplotlib.figure.Figure at 0x7f2506e6c550>"
      ]
     },
     "metadata": {},
     "output_type": "display_data"
    },
    {
     "data": {
      "image/png": "[encoded data removed]",
      "text/plain": [
       "<matplotlib.figure.Figure at 0x7f2506e90940>"
      ]
     },
     "metadata": {},
     "output_type": "display_data"
    }
   ],
   "source": [
    "gan = GAN()\n",
    "\n",
    "N = 10\n",
    "i1 = np.tile(np.array([1,0], dtype = 'float32'), (N,1))\n",
    "i2 = np.tile(np.array([0,1], dtype = 'float32'), (N,1))\n",
    "\n",
    "g1 = gan.sample_G(N, i1).eval(session=gan.sess)\n",
    "g2 = gan.sample_G(N, i2).eval(session=gan.sess)\n",
    "show_image(g1[0])\n",
    "show_image(g2[0])"
   ]
  },
  {
   "cell_type": "code",
   "execution_count": null,
   "metadata": {
    "scrolled": false
   },
   "outputs": [
    {
     "name": "stderr",
     "output_type": "stream",
     "text": [
      "Widget Javascript not detected.  It may not be installed or enabled properly.\n"
     ]
    },
    {
     "data": {
      "application/vnd.jupyter.widget-view+json": {
       "model_id": "14d4a50a47b8489183ab75fe20e42340"
      }
     },
     "metadata": {},
     "output_type": "display_data"
    },
    {
     "data": {
      "image/png": "[encoded data removed]",
      "text/plain": [
       "<matplotlib.figure.Figure at 0x7f2506eb2278>"
      ]
     },
     "metadata": {},
     "output_type": "display_data"
    }
   ],
   "source": [
    "gan.train(data, lamb = 0, learning_rate = 0.0005, training_epochs = 1000, display_step = 25, mb_size = 128)"
   ]
  },
  {
   "cell_type": "code",
   "execution_count": null,
   "metadata": {
    "collapsed": true,
    "scrolled": false
   },
   "outputs": [],
   "source": []
  },
  {
   "cell_type": "code",
   "execution_count": null,
   "metadata": {
    "collapsed": true,
    "scrolled": false
   },
   "outputs": [],
   "source": [
    "n = 1000\n",
    "gX = gan.sample_G(n, np.tile([.5,.5], n).reshape(n, -1).astype('float32')).eval(session = gan.sess)\n",
    "plt.scatter(X[:,0], X[:,1])\n",
    "plt.scatter(gX[:,0], gX[:,1])"
   ]
  },
  {
   "cell_type": "code",
   "execution_count": null,
   "metadata": {
    "collapsed": true
   },
   "outputs": [],
   "source": []
  }
 ],
 "metadata": {
  "kernelspec": {
   "display_name": "Python [conda env:tensorflow]",
   "language": "python",
   "name": "conda-env-tensorflow-py"
  },
  "language_info": {
   "codemirror_mode": {
    "name": "ipython",
    "version": 3
   },
   "file_extension": ".py",
   "mimetype": "text/x-python",
   "name": "python",
   "nbconvert_exporter": "python",
   "pygments_lexer": "ipython3",
   "version": "3.6.1"
  }
 },
 "nbformat": 4,
 "nbformat_minor": 2
}

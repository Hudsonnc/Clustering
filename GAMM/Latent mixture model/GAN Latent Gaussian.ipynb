{
 "cells": [
  {
   "cell_type": "markdown",
   "metadata": {},
   "source": [
    "# The Machinery"
   ]
  },
  {
   "cell_type": "code",
   "execution_count": 2,
   "metadata": {},
   "outputs": [
    {
     "name": "stderr",
     "output_type": "stream",
     "text": [
      "/home/hudson/.local/lib/python3.5/site-packages/theano/gpuarray/dnn.py:135: UserWarning: Your cuDNN version is more recent than Theano. If you encounter problems, try updating Theano or downgrading cuDNN to version 5.1.\n",
      "  warnings.warn(\"Your cuDNN version is more recent than \"\n",
      "Using cuDNN version 6020 on context None\n",
      "Mapped name None to device cuda0: GeForce GTX 1080 (0000:02:00.0)\n"
     ]
    }
   ],
   "source": [
    "import numpy as np\n",
    "import theano as theano\n",
    "import theano.tensor as T"
   ]
  },
  {
   "cell_type": "code",
   "execution_count": 3,
   "metadata": {
    "collapsed": true
   },
   "outputs": [],
   "source": [
    "from matplotlib import pyplot as plt\n",
    "%matplotlib inline"
   ]
  },
  {
   "cell_type": "code",
   "execution_count": 4,
   "metadata": {
    "collapsed": true
   },
   "outputs": [],
   "source": [
    "import sys\n",
    "sys.path.append('/home/hudson/Projects/GAMM')\n",
    "from lib.utils import log_progress"
   ]
  },
  {
   "cell_type": "code",
   "execution_count": 5,
   "metadata": {
    "collapsed": true
   },
   "outputs": [],
   "source": [
    "class Hidden(object):\n",
    "    #http://deeplearning.net/tutorial/mlp.html\n",
    "    def __init__(self, input, n_in, n_out, W = None, b = None,\n",
    "                 activation = T.tanh, rng = np.random.RandomState()):\n",
    "        \n",
    "        self.input = input\n",
    "        \n",
    "        if W is None:\n",
    "            W_range = np.sqrt(6. / (n_in + n_out))\n",
    "            W_values = np.asarray(\n",
    "                rng.uniform(\n",
    "                    low = -W_range,\n",
    "                    high = W_range,\n",
    "                    size=(n_in, n_out)\n",
    "                ),\n",
    "                dtype=theano.config.floatX\n",
    "            )\n",
    "            if activation == T.nnet.sigmoid:\n",
    "                W_values *= 4\n",
    "            W = theano.shared(value=W_values, name='W', borrow=True)\n",
    "\n",
    "        if b is None:\n",
    "            b_values = np.zeros((n_out,), dtype=theano.config.floatX)\n",
    "            b = theano.shared(value=b_values, name='b', borrow=True)\n",
    "\n",
    "        self.W = W\n",
    "        self.b = b\n",
    "        \n",
    "        # parameters of the model\n",
    "        self.params = [self.W, self.b]\n",
    "        \n",
    "        lin_output = T.dot(input, self.W) + self.b\n",
    "        self.out = (\n",
    "            lin_output if activation is None\n",
    "            else activation(lin_output)\n",
    "        )"
   ]
  },
  {
   "cell_type": "code",
   "execution_count": 6,
   "metadata": {
    "collapsed": true
   },
   "outputs": [],
   "source": [
    "def decision(X, model, h=.05):\n",
    "    # X - some data in 2dimensional np.array\n",
    "    x_min, x_max = X[:, 0].min() - 1, X[:, 0].max() + 1\n",
    "    y_min, y_max = X[:, 1].min() - 1, X[:, 1].max() + 1\n",
    "    xx, yy = np.meshgrid(np.arange(x_min, x_max, h),\n",
    "                         np.arange(y_min, y_max, h))\n",
    "\n",
    "    # here \"model\" is your model's prediction (classification) function\n",
    "    Z = model(np.c_[xx.ravel(), yy.ravel()]) \n",
    "\n",
    "    # Put the result into a color plot\n",
    "    Z = Z.reshape(xx.shape)\n",
    "    plt.contourf(xx, yy, Z, cmap=plt.cm.Paired)\n",
    "    #plt.axis('off')"
   ]
  },
  {
   "cell_type": "markdown",
   "metadata": {},
   "source": [
    "## Gaussian\n"
   ]
  },
  {
   "cell_type": "code",
   "execution_count": 7,
   "metadata": {
    "collapsed": true
   },
   "outputs": [],
   "source": [
    "class Gaussian(object):\n",
    "    def __init__(self, ndim=2, mu=None, cov=None, scale=1):\n",
    "        if mu is None:\n",
    "            mu = scale*np.random.randn(ndim,)\n",
    "            \n",
    "        if cov is None:\n",
    "            cov = np.random.randn(ndim, ndim)\n",
    "            cov = np.dot(cov, cov.T)\n",
    "            \n",
    "        self.mu = mu.astype(theano.config.floatX)\n",
    "        self.cov = cov.astype(theano.config.floatX)\n",
    "        \n",
    "        ndim = mu.shape[0]\n",
    "        self.ndim = ndim\n",
    "        \n",
    "    def fit(self, x):\n",
    "        self.mu = x.mean(axis=0)\n",
    "        self.cov = np.cov(x.T)\n",
    "        \n",
    "    def sample(self, n=1):\n",
    "        return(np.random.multivariate_normal(self.mu, self.cov, n)\n",
    "                  .astype(theano.config.floatX))"
   ]
  },
  {
   "cell_type": "code",
   "execution_count": 8,
   "metadata": {
    "scrolled": true
   },
   "outputs": [
    {
     "data": {
      "text/plain": [
       "<matplotlib.collections.PathCollection at 0x7f9e6ebc17f0>"
      ]
     },
     "execution_count": 8,
     "metadata": {},
     "output_type": "execute_result"
    },
    {
     "data": {
      "image/png": "[encoded data removed]",
      "text/plain": [
       "<matplotlib.figure.Figure at 0x7f9e7219f470>"
      ]
     },
     "metadata": {},
     "output_type": "display_data"
    }
   ],
   "source": [
    "g1 = Gaussian(2, scale=5)\n",
    "z1 = g1.sample(100)\n",
    "\n",
    "g2 = Gaussian(2, scale=5)\n",
    "z2 = g2.sample(100)\n",
    "\n",
    "plt.scatter(z1[:,0], z1[:,1])\n",
    "plt.scatter(z2[:,0], z2[:,1])"
   ]
  },
  {
   "cell_type": "code",
   "execution_count": 9,
   "metadata": {
    "scrolled": true
   },
   "outputs": [
    {
     "data": {
      "text/plain": [
       "<matplotlib.collections.PathCollection at 0x7f9e6dee4f98>"
      ]
     },
     "execution_count": 9,
     "metadata": {},
     "output_type": "execute_result"
    },
    {
     "data": {
      "image/png": "[encoded data removed]",
      "text/plain": [
       "<matplotlib.figure.Figure at 0x7f9e6ebe20f0>"
      ]
     },
     "metadata": {},
     "output_type": "display_data"
    }
   ],
   "source": [
    "g2.fit(z1)\n",
    "z2 = g2.sample(100)\n",
    "\n",
    "plt.scatter(z1[:,0], z1[:,1])\n",
    "plt.scatter(z2[:,0], z2[:,1])"
   ]
  },
  {
   "cell_type": "markdown",
   "metadata": {},
   "source": [
    "## Mixture\n"
   ]
  },
  {
   "cell_type": "code",
   "execution_count": 10,
   "metadata": {
    "collapsed": true
   },
   "outputs": [],
   "source": [
    "class Mixture(object):\n",
    "    def __init__(self, k = 3, ndim = 2, p = None):\n",
    "        self.k = k\n",
    "        self.gaussians = np.array([Gaussian(ndim=ndim, scale = k**2) for i in range(k)])\n",
    "        self.p = np.ones(k)/k if p is None else p\n",
    "        \n",
    "    def sample(self, n=1):\n",
    "        out = np.vstack([self.gaussians[i].sample(int(n * self.p[i])) for i in range(self.k)])\n",
    "        return(out)"
   ]
  },
  {
   "cell_type": "code",
   "execution_count": 11,
   "metadata": {
    "collapsed": true
   },
   "outputs": [],
   "source": [
    "m = Mixture(2)"
   ]
  },
  {
   "cell_type": "code",
   "execution_count": 12,
   "metadata": {},
   "outputs": [
    {
     "data": {
      "text/plain": [
       "<matplotlib.collections.PathCollection at 0x7f9e6de5c438>"
      ]
     },
     "execution_count": 12,
     "metadata": {},
     "output_type": "execute_result"
    },
    {
     "data": {
      "image/png": "[encoded data removed]",
      "text/plain": [
       "<matplotlib.figure.Figure at 0x7f9e6eb2d358>"
      ]
     },
     "metadata": {},
     "output_type": "display_data"
    }
   ],
   "source": [
    "gx = m.sample(10000)\n",
    "plt.scatter(gx[:,0], gx[:,1])"
   ]
  },
  {
   "cell_type": "code",
   "execution_count": 13,
   "metadata": {},
   "outputs": [],
   "source": [
    "class MLP(object):\n",
    "    def __init__(self, input, n_in=2, n_out=2, n_hidden=300, params = None,\n",
    "                 rng = np.random.RandomState()):\n",
    "        self.input = input\n",
    "        self.n_in = n_in\n",
    "        self.n_out = n_out\n",
    "        self.n_hidden = n_hidden\n",
    "        self.rng = rng\n",
    "        \n",
    "        hidden = Hidden(\n",
    "            input,\n",
    "            n_in, n_hidden,\n",
    "            W = None if params is None else params[0],\n",
    "            b = None if params is None else params[1],\n",
    "            rng = rng\n",
    "        )\n",
    "        self.hidden = hidden\n",
    "        \n",
    "        out = LogisticRegression(\n",
    "            self.hidden.out,\n",
    "            n_hidden, n_out,\n",
    "            W = None if params is None else params[2],\n",
    "            b = None if params is None else params[3],\n",
    "            rng = rng\n",
    "        )\n",
    "        self.out = out\n",
    "        \n",
    "        self.lin = out.lin\n",
    "        self.p_y = out.p_y\n",
    "        self.y_pred = out.y_pred\n",
    "        \n",
    "        self.params = hidden.params + out.params\n",
    "        \n",
    "    def predict(self, x):\n",
    "        mlp = MLP(x, self.n_in, self.n_out, self.n_hidden, self.params, self.rng)\n",
    "        return(mlp.y_pred.eval())\n",
    "    \n",
    "    def prob(self, x, temp = 1):\n",
    "        mlp = MLP(x, self.n_in, self.n_out, self.n_hidden, self.params, self.rng)\n",
    "        return(T.nnet.softmax(mlp.lin / temp).eval())\n",
    "    \n",
    "    def forward(self, z):\n",
    "        gen = MLP(z, n_in=self.n_in, n_out=self.n_out, n_hidden=self.n_hidden,\n",
    "                        params = self.params, rng = self.rng)\n",
    "        return(gen.lin.eval())"
   ]
  },
  {
   "cell_type": "code",
   "execution_count": 14,
   "metadata": {},
   "outputs": [
    {
     "ename": "NameError",
     "evalue": "name 'LogisticRegression' is not defined",
     "output_type": "error",
     "traceback": [
      "\u001b[0;31m---------------------------------------------------------------------------\u001b[0m",
      "\u001b[0;31mNameError\u001b[0m                                 Traceback (most recent call last)",
      "\u001b[0;32m<ipython-input-14-d1135428ec2e>\u001b[0m in \u001b[0;36m<module>\u001b[0;34m()\u001b[0m\n\u001b[1;32m      1\u001b[0m \u001b[0mz1\u001b[0m \u001b[0;34m=\u001b[0m \u001b[0mGaussian\u001b[0m\u001b[0;34m(\u001b[0m\u001b[0;36m2\u001b[0m\u001b[0;34m,\u001b[0m \u001b[0mscale\u001b[0m\u001b[0;34m=\u001b[0m\u001b[0;36m5\u001b[0m\u001b[0;34m)\u001b[0m\u001b[0;34m.\u001b[0m\u001b[0msample\u001b[0m\u001b[0;34m(\u001b[0m\u001b[0;36m1000\u001b[0m\u001b[0;34m)\u001b[0m\u001b[0;34m\u001b[0m\u001b[0m\n\u001b[1;32m      2\u001b[0m \u001b[0mz2\u001b[0m \u001b[0;34m=\u001b[0m \u001b[0mGaussian\u001b[0m\u001b[0;34m(\u001b[0m\u001b[0;36m2\u001b[0m\u001b[0;34m,\u001b[0m \u001b[0mscale\u001b[0m\u001b[0;34m=\u001b[0m\u001b[0;36m5\u001b[0m\u001b[0;34m)\u001b[0m\u001b[0;34m.\u001b[0m\u001b[0msample\u001b[0m\u001b[0;34m(\u001b[0m\u001b[0;36m1000\u001b[0m\u001b[0;34m)\u001b[0m\u001b[0;34m\u001b[0m\u001b[0m\n\u001b[0;32m----> 3\u001b[0;31m \u001b[0mgen1\u001b[0m \u001b[0;34m=\u001b[0m \u001b[0mMLP\u001b[0m\u001b[0;34m(\u001b[0m\u001b[0mz1\u001b[0m\u001b[0;34m,\u001b[0m \u001b[0mn_hidden\u001b[0m \u001b[0;34m=\u001b[0m \u001b[0;36m200\u001b[0m\u001b[0;34m)\u001b[0m\u001b[0;34m\u001b[0m\u001b[0m\n\u001b[0m\u001b[1;32m      4\u001b[0m \u001b[0mgen2\u001b[0m \u001b[0;34m=\u001b[0m \u001b[0mMLP\u001b[0m\u001b[0;34m(\u001b[0m\u001b[0mz1\u001b[0m\u001b[0;34m,\u001b[0m \u001b[0mn_hidden\u001b[0m \u001b[0;34m=\u001b[0m \u001b[0;36m200\u001b[0m\u001b[0;34m,\u001b[0m  \u001b[0mparams\u001b[0m \u001b[0;34m=\u001b[0m \u001b[0mgen1\u001b[0m\u001b[0;34m.\u001b[0m\u001b[0mparams\u001b[0m\u001b[0;34m)\u001b[0m\u001b[0;34m\u001b[0m\u001b[0m\n\u001b[1;32m      5\u001b[0m \u001b[0;34m\u001b[0m\u001b[0m\n",
      "\u001b[0;32m<ipython-input-13-4ee80544d87c>\u001b[0m in \u001b[0;36m__init__\u001b[0;34m(self, input, n_in, n_out, n_hidden, params, rng)\u001b[0m\n\u001b[1;32m     17\u001b[0m         \u001b[0mself\u001b[0m\u001b[0;34m.\u001b[0m\u001b[0mhidden\u001b[0m \u001b[0;34m=\u001b[0m \u001b[0mhidden\u001b[0m\u001b[0;34m\u001b[0m\u001b[0m\n\u001b[1;32m     18\u001b[0m \u001b[0;34m\u001b[0m\u001b[0m\n\u001b[0;32m---> 19\u001b[0;31m         out = LogisticRegression(\n\u001b[0m\u001b[1;32m     20\u001b[0m             \u001b[0mself\u001b[0m\u001b[0;34m.\u001b[0m\u001b[0mhidden\u001b[0m\u001b[0;34m.\u001b[0m\u001b[0mout\u001b[0m\u001b[0;34m,\u001b[0m\u001b[0;34m\u001b[0m\u001b[0m\n\u001b[1;32m     21\u001b[0m             \u001b[0mn_hidden\u001b[0m\u001b[0;34m,\u001b[0m \u001b[0mn_out\u001b[0m\u001b[0;34m,\u001b[0m\u001b[0;34m\u001b[0m\u001b[0m\n",
      "\u001b[0;31mNameError\u001b[0m: name 'LogisticRegression' is not defined"
     ]
    }
   ],
   "source": [
    "z1 = Gaussian(2, scale=5).sample(1000)\n",
    "z2 = Gaussian(2, scale=5).sample(1000)\n",
    "gen1 = MLP(z1, n_hidden = 200)\n",
    "gen2 = MLP(z1, n_hidden = 200,  params = gen1.params)\n",
    "\n",
    "gX1 = gen1.lin.eval()\n",
    "gX2 = gen2.forward(z2)\n",
    "\n",
    "plt.scatter(z1[:,0], z1[:,1], label = 'z1')\n",
    "plt.scatter(gX1[:,0], gX1[:,1], label = 'g1')\n",
    "\n",
    "plt.scatter(z2[:,0], z2[:,1], label = 'z2')\n",
    "plt.scatter(gX2[:,0], gX2[:,1], label = 'g2')\n",
    "\n",
    "plt.legend()"
   ]
  },
  {
   "cell_type": "markdown",
   "metadata": {},
   "source": [
    "##### Distribution to fit"
   ]
  },
  {
   "cell_type": "code",
   "execution_count": null,
   "metadata": {
    "collapsed": true
   },
   "outputs": [],
   "source": [
    "from sklearn.datasets import make_moons"
   ]
  },
  {
   "cell_type": "code",
   "execution_count": null,
   "metadata": {
    "collapsed": true
   },
   "outputs": [],
   "source": [
    "x, y = make_moons(1000, noise=.1)\n",
    "# g = Gaussian(2)\n",
    "# x = g.sample(1000)\n",
    "#x = x[np.where(y == 1)]"
   ]
  },
  {
   "cell_type": "code",
   "execution_count": null,
   "metadata": {},
   "outputs": [],
   "source": [
    "plt.scatter(x[:,0], x[:,1])"
   ]
  },
  {
   "cell_type": "markdown",
   "metadata": {},
   "source": [
    "### Model fitting"
   ]
  },
  {
   "cell_type": "code",
   "execution_count": null,
   "metadata": {
    "collapsed": true
   },
   "outputs": [],
   "source": [
    "def Adam(cost, params, lr=0.0002, b1=0.9, b2=0.999, e=1e-8, c=None):\n",
    "    #https://gist.github.com/Newmu/acb738767acb4788bac3\n",
    "    #Standard literature says b1=.9\n",
    "    #DCGAN paper says b1 = .5\n",
    "    b1 = 1-b1\n",
    "    b2 = 1-b2\n",
    "    updates = []\n",
    "    grads = T.grad(cost, params)\n",
    "    i = theano.shared(np.float32(0.))\n",
    "    i_t = i + 1.\n",
    "    fix1 = 1. - (1. - b1)**i_t\n",
    "    fix2 = 1. - (1. - b2)**i_t\n",
    "    lr_t = lr * (T.sqrt(fix2) / fix1)\n",
    "    for p, g in zip(params, grads):\n",
    "        m = theano.shared(p.get_value() * 0.)\n",
    "        v = theano.shared(p.get_value() * 0.)\n",
    "        m_t = (b1 * g) + ((1. - b1) * m)\n",
    "        v_t = (b2 * T.sqr(g)) + ((1. - b2) * v)\n",
    "        g_t = m_t / (T.sqrt(v_t) + e)\n",
    "        p_t = p - (lr_t * g_t) if c is None else T.clip(p - (lr_t * g_t), -c, c)\n",
    "        updates.append((m, m_t))\n",
    "        updates.append((v, v_t))\n",
    "        updates.append((p, p_t))\n",
    "    updates.append((i, i_t))\n",
    "    return updates\n",
    "\n",
    "def RMSprop(cost, params, lr=0.00005, rho=0.99, epsilon=1e-8, c=None):\n",
    "    #https://github.com/Newmu/Theano-Tutorials\n",
    "    #rho = .99 is torch default, used in paper\n",
    "    grads = T.grad(cost=cost, wrt=params)\n",
    "    updates = []\n",
    "    for p, g in zip(params, grads):\n",
    "        acc = theano.shared(p.get_value() * 0.)\n",
    "        acc_new = rho * acc + (1 - rho) * g ** 2\n",
    "        gradient_scaling = T.sqrt(acc_new + epsilon)\n",
    "        g = g / gradient_scaling\n",
    "        updates.append((acc, acc_new))\n",
    "        update = p - lr * g if c is None else T.clip(p - lr * g, -c, c)\n",
    "        updates.append((p, update))\n",
    "    return updates\n",
    "\n",
    "def gradDesc(cost, params, lr=.00005):\n",
    "    grads = T.grad(cost=cost, wrt=params)\n",
    "    updates = []\n",
    "    for p, g in zip(params, grads):\n",
    "        update = p - lr * g\n",
    "        updates.append((p, update))\n",
    "    return updates"
   ]
  },
  {
   "cell_type": "markdown",
   "metadata": {},
   "source": [
    "# Standard GAN"
   ]
  },
  {
   "cell_type": "code",
   "execution_count": null,
   "metadata": {
    "collapsed": true
   },
   "outputs": [],
   "source": [
    "def trainGAN(X, batch_size = 100, iters = 10000, alpha = .005, prior_dim = 2, gen_hidden = 300,\n",
    "             disc_hidden = 500,\n",
    "             rng = np.random.RandomState()):\n",
    "    \n",
    "    #Model building\n",
    "    print(\"Building model...\")\n",
    "    \n",
    "    x = T.matrix('x')\n",
    "    z = T.matrix('z')\n",
    "    \n",
    "    n_dim = X.shape[1]\n",
    "    \n",
    "    prior = Gaussian(prior_dim)\n",
    "    \n",
    "    gen = Generator(z, n_in=prior_dim, n_hidden=gen_hidden, n_out=n_dim)\n",
    "    gen_params = gen.params\n",
    "    \n",
    "    disc_data = MLP(x, n_in=X.shape[1], n_out=2, n_hidden=disc_hidden)\n",
    "    disc_params = disc_data.params\n",
    "    disc_gen = MLP(gen.out, n_in=X.shape[1], n_out=2, n_hidden=disc_hidden, params=disc_params)\n",
    "    \n",
    "    #Loss\n",
    "    disc_loss = -(T.mean(T.log(disc_data.p_y[:, 0])) \\\n",
    "                  + T.mean(T.log(disc_gen.p_y[:, 1])))\n",
    "    gen_loss = T.mean(T.log(disc_gen.p_y[:, 1]))\n",
    "    \n",
    "    #Updates\n",
    "    disc_updates = Adam(disc_loss, disc_params, lr=alpha)\n",
    "    gen_updates = Adam(gen_loss, gen_params, lr=alpha)\n",
    "    \n",
    "    #Training functions\n",
    "    train_disc = theano.function(\n",
    "        inputs = [x,z],\n",
    "        outputs = disc_loss,\n",
    "        updates = disc_updates)\n",
    "    \n",
    "    train_gen = theano.function(\n",
    "        inputs = [z],\n",
    "        outputs = gen_loss,\n",
    "        updates = gen_updates\n",
    "    )\n",
    "    \n",
    "    #Training loop \n",
    "    print(\"\\nBegin training...\")\n",
    "    \n",
    "    #Plot of initial model\n",
    "    plt.figure()\n",
    "    gX = gen.forward(prior.sample(X.shape[0]))\n",
    "    plt.scatter(X[:,0], X[:,1], label = \"Observed\")\n",
    "    plt.scatter(gX[:,0], gX[:,1], alpha = .4, label = 'Generated')\n",
    "    plt.legend()\n",
    "    plt.show()\n",
    "    \n",
    "    #Train\n",
    "    disc_losses = []\n",
    "    gen_losses = []\n",
    "    for i in log_progress(range(iters), every = 10, name = \"Iteration\"):\n",
    "        loss_disc = train_disc(\n",
    "            X[rng.randint(X.shape[0], size=batch_size)],\n",
    "            prior.sample(batch_size).astype(theano.config.floatX)\n",
    "        )\n",
    "        loss_gen = train_gen(\n",
    "            prior.sample(batch_size).astype(theano.config.floatX)\n",
    "        )\n",
    "        disc_losses.append(loss_disc)\n",
    "        gen_losses.append(loss_gen)\n",
    "    #Plot of errors\n",
    "    plt.figure()\n",
    "    plt.plot(disc_losses)\n",
    "    plt.plot(gen_losses)\n",
    "    \n",
    "    #Plot of final model\n",
    "    plt.figure()\n",
    "    gX = gen.forward(prior.sample(X.shape[0]))\n",
    "    \n",
    "    #decision(np.vstack((X,gX)), disc_data.predict)\n",
    "    plt.scatter(X[:,0], X[:,1], label = \"Observed\")\n",
    "    plt.scatter(gX[:,0], gX[:,1], alpha = .4, label = 'Generated')  \n",
    "    plt.legend()\n",
    "    plt.show()"
   ]
  },
  {
   "cell_type": "code",
   "execution_count": null,
   "metadata": {
    "scrolled": false
   },
   "outputs": [],
   "source": [
    "trainGAN(x.astype(theano.config.floatX))"
   ]
  },
  {
   "cell_type": "markdown",
   "metadata": {},
   "source": [
    "# WGAN"
   ]
  },
  {
   "cell_type": "code",
   "execution_count": null,
   "metadata": {
    "collapsed": true
   },
   "outputs": [],
   "source": [
    "def trainWGAN(X, batch_size = 100, iters = 10000, alpha = .00005, prior_dim = 2, gen_hidden = 300,\n",
    "             disc_hidden = 500, c = .1, n_crit = 5,\n",
    "             rng = np.random.RandomState()):\n",
    "    \n",
    "    #Model building\n",
    "    print(\"Building model...\")\n",
    "    \n",
    "    x = T.matrix('x')\n",
    "    z = T.matrix('z')\n",
    "    \n",
    "    n_dim = X.shape[1]\n",
    "    \n",
    "    prior = Gaussian(prior_dim)\n",
    "    \n",
    "    gen = Generator(z, n_in=prior_dim, n_hidden=gen_hidden, n_out=n_dim)\n",
    "    gen_params = gen.params\n",
    "    \n",
    "    disc_data = MLP(x, n_in=X.shape[1], n_out=2, n_hidden=disc_hidden)\n",
    "    disc_params = disc_data.params\n",
    "    disc_gen = MLP(gen.out, n_in=X.shape[1], n_out=2, n_hidden=disc_hidden, params=disc_params)\n",
    "    \n",
    "    #Loss\n",
    "    disc_loss = -(T.mean(disc_data.lin[:, 0]) \\\n",
    "                  - T.mean(disc_gen.lin[:, 1]))\n",
    "    gen_loss = -T.mean(disc_gen.lin[:, 1])\n",
    "    \n",
    "    #Updates\n",
    "    disc_updates = RMSprop(disc_loss, disc_params, lr=alpha, c=c)\n",
    "    gen_updates = RMSprop(gen_loss, gen_params, lr=alpha)\n",
    "    \n",
    "    #Training functions\n",
    "    train_disc = theano.function(\n",
    "        inputs = [x,z],\n",
    "        outputs = disc_loss,\n",
    "        updates = disc_updates)\n",
    "    \n",
    "    train_gen = theano.function(\n",
    "        inputs = [z],\n",
    "        outputs = gen_loss,\n",
    "        updates = gen_updates\n",
    "    )\n",
    "    \n",
    "    #Training loop \n",
    "    print(\"\\nBegin training...\")\n",
    "    \n",
    "    #Plot of initial model\n",
    "    plt.figure()\n",
    "    gX = gen.forward(prior.sample(X.shape[0]))\n",
    "    plt.scatter(X[:,0], X[:,1], label = \"Observed\")\n",
    "    plt.scatter(gX[:,0], gX[:,1], alpha = .4, label = 'Generated')\n",
    "    plt.legend()\n",
    "    plt.show()\n",
    "    \n",
    "    #Train\n",
    "    disc_losses = []\n",
    "    for i in log_progress(range(iters), every = 10, name = \"Iteration\"):\n",
    "        itercrit = n_crit * 20 if i < 25 or i % 500 == 0 else n_crit\n",
    "        for b in range(itercrit):\n",
    "            loss_disc = train_disc(\n",
    "                X[rng.randint(X.shape[0], size=batch_size)],\n",
    "                prior.sample(batch_size).astype(theano.config.floatX)\n",
    "            )\n",
    "        loss_gen = train_gen(\n",
    "            prior.sample(batch_size).astype(theano.config.floatX)\n",
    "        )\n",
    "        disc_losses.append(-loss_disc)\n",
    "    #Plot of errors\n",
    "    plt.figure()\n",
    "    plt.plot(disc_losses)\n",
    "    \n",
    "    #Plot of final model\n",
    "    plt.figure()\n",
    "    gX = gen.forward(prior.sample(X.shape[0]))\n",
    "    \n",
    "    #decision(np.vstack((X,gX)), disc_data.predict)\n",
    "    plt.scatter(X[:,0], X[:,1], label = \"Observed\")\n",
    "    plt.scatter(gX[:,0], gX[:,1], alpha = .4, label = 'Generated')  \n",
    "    plt.legend()\n",
    "    plt.show()"
   ]
  },
  {
   "cell_type": "code",
   "execution_count": null,
   "metadata": {
    "scrolled": false
   },
   "outputs": [],
   "source": [
    "trainWGAN(x.astype(theano.config.floatX), iters = 5000, n_crit = 5, c = 1, alpha = .005)"
   ]
  },
  {
   "cell_type": "markdown",
   "metadata": {},
   "source": [
    "# GAMM"
   ]
  },
  {
   "cell_type": "code",
   "execution_count": null,
   "metadata": {
    "collapsed": true
   },
   "outputs": [],
   "source": []
  },
  {
   "cell_type": "code",
   "execution_count": null,
   "metadata": {
    "collapsed": true
   },
   "outputs": [],
   "source": []
  },
  {
   "cell_type": "code",
   "execution_count": null,
   "metadata": {
    "collapsed": true
   },
   "outputs": [],
   "source": []
  },
  {
   "cell_type": "code",
   "execution_count": null,
   "metadata": {
    "collapsed": true
   },
   "outputs": [],
   "source": []
  },
  {
   "cell_type": "code",
   "execution_count": null,
   "metadata": {
    "collapsed": true
   },
   "outputs": [],
   "source": []
  },
  {
   "cell_type": "code",
   "execution_count": null,
   "metadata": {
    "collapsed": true
   },
   "outputs": [],
   "source": [
    "def train(X, n_hidden = 500,\n",
    "         batch_size = 100, iters = 400, alpha = .0005,\n",
    "         rng = np.random.RandomState()):\n",
    "    \n",
    "    x = T.matrix('x')\n",
    "    z = T.matrix('z')\n",
    "\n",
    "    ndim = X.shape[1]    \n",
    "    #prior = Mixture(2, 2)\n",
    "    prior = Gaussian(2)\n",
    "    \n",
    "    print(\"Building model...\")\n",
    "    ################### Generator ###################\n",
    "    \n",
    "    gen = Generator(z, n_in=2, n_hidden=n_hidden, n_out=2)\n",
    "    genParams = gen.params\n",
    "    genCrit = MLP(gen.out, ndim, 2, n_hidden = n_hidden)\n",
    "    critParams = genCrit.params\n",
    "    realCrit = MLP(x, ndim, 2, n_hidden = n_hidden, params = critParams)\n",
    "\n",
    "    critLoss = -T.mean(T.log(realCrit.p_y[:,0])) \\\n",
    "                -T.mean(T.log(genCrit.p_y[:,1]))\n",
    "    \n",
    "    genLoss = T.mean(T.log(genCrit.p_y[:,1]))\n",
    "    \n",
    "    critUpdates = Adam(critLoss, critParams, lr=alpha)\n",
    "    genUpdates = Adam(genLoss, genParams, lr=alpha)\n",
    "    \n",
    "    trainGen = theano.function(\n",
    "        inputs = [z], \n",
    "        outputs = genLoss, \n",
    "        updates = genUpdates\n",
    "    )\n",
    "        \n",
    "    trainCrit = theano.function(\n",
    "        inputs = [x,z], \n",
    "        outputs = critLoss, \n",
    "        updates = critUpdates\n",
    "    )\n",
    "        \n",
    "    #################################################\n",
    "    print(\"Done!\")\n",
    "    \n",
    "    print('Begin training...')\n",
    "    \n",
    "    critPlot = []\n",
    "    for iter in log_progress(range(iters), every=100):\n",
    "        #gen/crit\n",
    "        xG = X[rng.randint(X.shape[0], size=batch_size)]\n",
    "        critPlot.append(-trainCrit(xG,\n",
    "                                  prior.sample(batch_size).astype(theano.config.floatX)))\n",
    "        trainGen(prior.sample(batch_size).astype(theano.config.floatX))\n",
    "        \n",
    "        if iter % 50000 == 0 or iters < 50000 and iters % 5000 == 0 :\n",
    "            #Plot of final model\n",
    "            plt.figure()\n",
    "            gX = gen.forward(prior.sample(X.shape[0]))\n",
    "\n",
    "            #decision(np.vstack((X,gX)), disc_data.predict)\n",
    "            plt.scatter(X[:,0], X[:,1], label = \"Observed\")\n",
    "            plt.scatter(gX[:,0], gX[:,1], alpha = .4, label = 'Generated')  \n",
    "            plt.legend()\n",
    "            plt.show()\n",
    "    \n",
    "    \n",
    "    \n",
    "    \n",
    "    #Plot of errors\n",
    "    plt.figure()\n",
    "    plt.plot(critPlot)\n",
    "    \n",
    "    #Plot of final model\n",
    "    plt.figure()\n",
    "    gX = gen.forward(prior.sample(X.shape[0]))\n",
    "    \n",
    "    #decision(np.vstack((X,gX)), disc_data.predict)\n",
    "    plt.scatter(X[:,0], X[:,1], label = \"Observed\")\n",
    "    plt.scatter(gX[:,0], gX[:,1], alpha = .4, label = 'Generated')  \n",
    "    plt.legend()\n",
    "    plt.show()\n",
    "    \n",
    "    \n",
    "    return(gen)\n",
    "\n"
   ]
  },
  {
   "cell_type": "code",
   "execution_count": null,
   "metadata": {
    "scrolled": false
   },
   "outputs": [],
   "source": [
    "train(x.astype(theano.config.floatX), iters = 5000000, alpha = .0005)"
   ]
  },
  {
   "cell_type": "code",
   "execution_count": null,
   "metadata": {
    "collapsed": true
   },
   "outputs": [],
   "source": []
  }
 ],
 "metadata": {
  "anaconda-cloud": {},
  "kernelspec": {
   "display_name": "Python [conda env:theano]",
   "language": "python",
   "name": "conda-env-theano-py"
  },
  "language_info": {
   "codemirror_mode": {
    "name": "ipython",
    "version": 3
   },
   "file_extension": ".py",
   "mimetype": "text/x-python",
   "name": "python",
   "nbconvert_exporter": "python",
   "pygments_lexer": "ipython3",
   "version": "3.5.3"
  }
 },
 "nbformat": 4,
 "nbformat_minor": 2
}

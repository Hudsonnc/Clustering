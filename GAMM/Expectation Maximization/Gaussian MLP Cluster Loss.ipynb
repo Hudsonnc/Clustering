{
 "cells": [
  {
   "cell_type": "markdown",
   "metadata": {},
   "source": [
    "# The Machinery"
   ]
  },
  {
   "cell_type": "markdown",
   "metadata": {},
   "source": [
    "For proof of concept, I consider Gaussian generative models with MLP discriminator. The Gaussian generative models take data from n-dimensional latent space $z \\sim \\mathcal{N}(0, I)$ to arbitrary n-dimensional $\\mathcal{N}(\\mu, \\Sigma)$ by learned affine transformation."
   ]
  },
  {
   "cell_type": "code",
   "execution_count": 2,
   "metadata": {},
   "outputs": [
    {
     "name": "stderr",
     "output_type": "stream",
     "text": [
      "/home/hudson/.local/lib/python3.5/site-packages/theano/gpuarray/dnn.py:135: UserWarning: Your cuDNN version is more recent than Theano. If you encounter problems, try updating Theano or downgrading cuDNN to version 5.1.\n",
      "  warnings.warn(\"Your cuDNN version is more recent than \"\n",
      "Using cuDNN version 6020 on context None\n",
      "Mapped name None to device cuda0: GeForce GTX 1080 (0000:02:00.0)\n"
     ]
    }
   ],
   "source": [
    "import numpy as np\n",
    "import theano as theano\n",
    "import theano.tensor as T"
   ]
  },
  {
   "cell_type": "code",
   "execution_count": 3,
   "metadata": {
    "collapsed": true
   },
   "outputs": [],
   "source": [
    "from matplotlib import pyplot as plt\n",
    "%matplotlib inline"
   ]
  },
  {
   "cell_type": "code",
   "execution_count": 4,
   "metadata": {
    "collapsed": true
   },
   "outputs": [],
   "source": [
    "import sys\n",
    "sys.path.append('/home/hudson/Projects/GAMM')\n",
    "from lib.utils import log_progress"
   ]
  },
  {
   "cell_type": "markdown",
   "metadata": {},
   "source": [
    "## Generator"
   ]
  },
  {
   "cell_type": "code",
   "execution_count": 5,
   "metadata": {
    "collapsed": true
   },
   "outputs": [],
   "source": [
    "class GaussianGenerator(object):\n",
    "    def __init__(self, ndim= 1, mu=None, sig=None, scale=1):\n",
    "        if mu is None:\n",
    "            mu = scale*np.random.randn(ndim,)\n",
    "        mu = theano.shared(value=mu, name='mu', borrow=True)\n",
    "        if sig is None:\n",
    "            sig = np.random.randn(ndim, ndim)\n",
    "        sig = theano.shared(value=sig, name='sigma', borrow=True)\n",
    "        self.mu = mu\n",
    "        self.sig = sig\n",
    "        \n",
    "        ndim = mu.shape[0].eval()\n",
    "        self.ndim = ndim\n",
    "        \n",
    "        self.params = [self.mu, self.sig]\n",
    "        \n",
    "    def sample(self, n=1):\n",
    "        z = np.random.randn(self.ndim, n)\n",
    "        out = (T.dot(self.sig, z).T + self.mu.T)\n",
    "        return(out)"
   ]
  },
  {
   "cell_type": "markdown",
   "metadata": {},
   "source": [
    "## Discriminator"
   ]
  },
  {
   "cell_type": "code",
   "execution_count": 6,
   "metadata": {
    "collapsed": true
   },
   "outputs": [],
   "source": [
    "class Hidden(object):\n",
    "    #http://deeplearning.net/tutorial/mlp.html\n",
    "    def __init__(self, input, n_in, n_out, W = None, b = None,\n",
    "                 activation = T.tanh, rng = np.random.RandomState()):\n",
    "        \n",
    "        self.input = input\n",
    "        \n",
    "        if W is None:\n",
    "            W_range = np.sqrt(6. / (n_in + n_out))\n",
    "            W_values = np.asarray(\n",
    "                rng.uniform(\n",
    "                    low = -W_range,\n",
    "                    high = W_range,\n",
    "                    size=(n_in, n_out)\n",
    "                ),\n",
    "                dtype=theano.config.floatX\n",
    "            )\n",
    "            if activation == T.nnet.sigmoid:\n",
    "                W_values *= 4\n",
    "            W = theano.shared(value=W_values, name='W', borrow=True)\n",
    "\n",
    "        if b is None:\n",
    "            b_values = np.zeros((n_out,), dtype=theano.config.floatX)\n",
    "            b = theano.shared(value=b_values, name='b', borrow=True)\n",
    "\n",
    "        self.W = W\n",
    "        self.b = b\n",
    "        \n",
    "        # parameters of the model\n",
    "        self.params = [self.W, self.b]\n",
    "        \n",
    "        lin_output = T.dot(input, self.W) + self.b\n",
    "        self.output = (\n",
    "            lin_output if activation is None\n",
    "            else activation(lin_output)\n",
    "        )"
   ]
  },
  {
   "cell_type": "code",
   "execution_count": 7,
   "metadata": {
    "collapsed": true
   },
   "outputs": [],
   "source": [
    "class LogisticRegression(object):\n",
    "    def __init__(self, input, n_in, n_out, W = None, b = None,\n",
    "                 rng = np.random.RandomState()):\n",
    "        \n",
    "        self.input = input\n",
    "        \n",
    "        if W is None:\n",
    "            W_range = np.sqrt(6. / (n_in + n_out))\n",
    "            W_values = np.asarray(\n",
    "                rng.uniform(\n",
    "                    low = -W_range,\n",
    "                    high = W_range,\n",
    "                    size=(n_in, n_out)\n",
    "                ),\n",
    "                dtype=theano.config.floatX\n",
    "            )\n",
    "            W = theano.shared(value=W_values, name='W', borrow=True)\n",
    "\n",
    "        if b is None:\n",
    "            b_values = np.zeros((n_out,), dtype=theano.config.floatX)\n",
    "            b = theano.shared(value=b_values, name='b', borrow=True)\n",
    "\n",
    "        self.W = W\n",
    "        self.b = b\n",
    "        \n",
    "        self.params = [self.W, self.b]\n",
    "        \n",
    "        self.p_y = T.nnet.softmax(T.dot(input, self.W) + b)\n",
    "        self.y_pred = T.argmax(self.p_y, axis=1)"
   ]
  },
  {
   "cell_type": "code",
   "execution_count": 15,
   "metadata": {
    "collapsed": true
   },
   "outputs": [],
   "source": [
    "class MLP(object):\n",
    "    def __init__(self, input, n_in, n_out, n_hidden=300, params = None,\n",
    "                 rng = np.random.RandomState()):\n",
    "        self.input = input\n",
    "        self.n_in = n_in\n",
    "        self.n_out = n_out\n",
    "        self.n_hidden = n_hidden\n",
    "        self.rng = rng\n",
    "        \n",
    "        hidden = Hidden(\n",
    "            input,\n",
    "            n_in, n_hidden,\n",
    "            W = None if params is None else params[0],\n",
    "            b = None if params is None else params[1],\n",
    "            rng = rng\n",
    "        )\n",
    "        self.hidden = hidden\n",
    "        \n",
    "        softmax = LogisticRegression(\n",
    "            self.hidden.output,\n",
    "            n_hidden, n_out,\n",
    "            W = None if params is None else params[2],\n",
    "            b = None if params is None else params[3],\n",
    "            rng = rng\n",
    "        )\n",
    "        self.softmax = softmax\n",
    "        \n",
    "        self.p_y = softmax.p_y\n",
    "        self.y_pred = softmax.y_pred\n",
    "        \n",
    "        self.p_cluster = self.p_y[:,1:] / self.p_y[:,1:].sum(axis = 1)[:, np.newaxis]\n",
    "        self.cluster_pred = T.argmax(self.p_cluster, axis=1)\n",
    "        \n",
    "        self.params = hidden.params + softmax.params\n",
    "        \n",
    "    def predict(self, x):\n",
    "        mlp = MLP(x, self.n_in, self.n_out, self.n_hidden, self.params, self.rng)\n",
    "        return(mlp.y_pred.eval())\n",
    "        \n",
    "    def cluster(self, x):\n",
    "        mlp = MLP(x, self.n_in, self.n_out, self.n_hidden, self.params, self.rng)\n",
    "        return(mlp.cluster_pred.eval())"
   ]
  },
  {
   "cell_type": "markdown",
   "metadata": {},
   "source": [
    "# Bringing Softmax to GANs "
   ]
  },
  {
   "cell_type": "markdown",
   "metadata": {},
   "source": [
    "### Training the Discriminator:"
   ]
  },
  {
   "cell_type": "markdown",
   "metadata": {},
   "source": [
    "Given \n",
    "* data $\\mathbf{x} = x_1, ..., x_n$ distributed according to a mixture of k distributions, $p_x(x)$ \n",
    "* known latent distribution $z \\sim p_z(z)$\n",
    "* and k generative models $\\mathbf{G}_1(z), ..., \\mathbf{G}_k(z)$ with $\\mathbf{G}_i(z) \\sim p_{G_i}$,\n",
    "\n",
    "we may consider a discriminative model $\\mathbf{D}(x)$ which outputs a vector which *approximates* $<P(x \\sim p_x), P(x \\sim p_{G_1}), ..., P(x \\sim p_{G_k})>$. \n",
    "\n",
    "I will denote the entries of this vector as \n",
    "$<D_x, D_{G_1}, ..., D_{G_k}>$.\n",
    "\n",
    "To train $D$ for fixed $\\{\\mathbf{G}_i\\}$, we may minimize the cross entropy loss:\n",
    "$$-\\mathbb{E}_x[P(x \\sim p_x)log(D_x) + \\sum_{G_i} P(x \\sim p_{G_i})log D_{G_i}(x)]$$\n",
    "Aligning ourselves with the GAN formulation by Goodefllow, *et al.*, we assign equal values to $\\mathbb{E}_x[P(x \\sim p_x)]$ and $\\mathbb{E}_x[\\sum_{G_i}P(x \\sim p_{G_i})]$, yielding a cross entropy loss proportional to:\n",
    "$$-\\mathbb{E}_{x \\sim p_x}[log D_x(x)] - \\sum_{G_i} P(G_i) \\mathbb{E}_{z \\sim p_z}[log D_{G_i}(G_i(z))]$$\n",
    "where $P(G_i) = \\mathbb{E}_x[P(x \\sim p_{G_i}) / \\sum_{G_i}P(x \\sim p_{G_i})]$, which is extimated by $\\mathbb{E}_x[D_{G_i}(x) / \\sum_{G_i}D_{G_i}(x)]$"
   ]
  },
  {
   "cell_type": "markdown",
   "metadata": {},
   "source": [
    "### Training the Generator"
   ]
  },
  {
   "cell_type": "markdown",
   "metadata": {},
   "source": [
    "##### Total Mixture Loss"
   ]
  },
  {
   "cell_type": "markdown",
   "metadata": {},
   "source": [
    "We still wish to maximize the discriminator's probability of making a mistake between real and generated data (from a mixture of generators) as in the standard GAN. Maximize:\n",
    "$$\\mathcal{L} = -\\mathbb{E}_{x \\sim p_x}[log D_x(x)] - \\mathbb{E}_{z \\sim p_z}[log D_{G}(G(z))]$$\n",
    "$$=-\\mathbb{E}_{x \\sim p_x}[log D_x(x)] - \\sum_{G_i} P(G_i) \\mathbb{E}_{z \\sim p_z}[log D_{G}(G_i(z))]$$\n",
    "\n",
    "where $D_{G}(x) = \\sum_{G_i} D_{G_i}(x) = 1 - D_x(x)$ and $G(z)$ is a mixture of $\\{G_i\\}$ with mixture proportions $\\{P(G_i)\\}$, extimated by $\\mathbb{E}_x[D_{G_i}(x) / \\sum_{G_i}D_{G_i}(x)]$ as above\n",
    "\n",
    "\n"
   ]
  },
  {
   "cell_type": "markdown",
   "metadata": {},
   "source": [
    "##### Individual Cluster Loss"
   ]
  },
  {
   "cell_type": "markdown",
   "metadata": {},
   "source": [
    "We may instead choose to train each individual generator on the portion of the observed data that corresponds best to that generator (a la expectation maximization). For $G_i \\in G_1, ..., G_k$, maximize:\n",
    "$$\\mathcal{L}_i = -\\mathbb{E}_{x \\sim p_{G_i}}[log \\hat{D}_x (x)] - \\mathbb{E}_{z \\sim p_z(z)}[log \\hat{D}_{G_i}(G_i(z))]$$\n",
    "where $\\hat{D}_x$ and $\\hat{D}_{G_i}$ are the versions of $D_x$ and $D_{G_i}$ normalized to sum to 1 (marginal probabilities)."
   ]
  },
  {
   "cell_type": "markdown",
   "metadata": {},
   "source": [
    "We may consider maximizing $\\mathcal{L} = \\sum_{i} \\mathcal{L}$ since $\\nabla_{G_i}\\mathcal{L} = \\nabla_{G_i}\\mathcal{L}_i$:\n",
    "$$\\mathcal{L} = \\sum_i -\\mathbb{E}_{x \\sim p_{G_i}}[log \\hat{D}_x (x)] - \\mathbb{E}_{z \\sim p_z(z)}[log \\hat{D}_{G_i}(G_i(z))]$$\n",
    "$$\\nabla_{G} \\mathcal{L} = \\nabla_{G} \\sum_i  - \\mathbb{E}_{z \\sim p_z(z)}[log \\hat{D}_{G_i}(G_i(z))]$$"
   ]
  },
  {
   "cell_type": "markdown",
   "metadata": {},
   "source": [
    "## TODO: remark on relationship to EM"
   ]
  },
  {
   "cell_type": "markdown",
   "metadata": {},
   "source": [
    "### Data"
   ]
  },
  {
   "cell_type": "markdown",
   "metadata": {},
   "source": [
    "##### Distribution to fit. Mixture of Gaussians"
   ]
  },
  {
   "cell_type": "code",
   "execution_count": 9,
   "metadata": {
    "collapsed": true
   },
   "outputs": [],
   "source": [
    "n = 10000\n",
    "mixture = np.array([1, 1, 1])\n",
    "mixture = mixture/sum(mixture)\n",
    "x = []\n",
    "for proportion in mixture:\n",
    "    g = GaussianGenerator(ndim=2, scale = len(mixture)**2)\n",
    "    z = g.sample(int(proportion * n)).eval()\n",
    "    x.append(z)\n",
    "x = np.vstack(x).astype('float32')"
   ]
  },
  {
   "cell_type": "code",
   "execution_count": 10,
   "metadata": {
    "scrolled": false
   },
   "outputs": [
    {
     "data": {
      "text/plain": [
       "<matplotlib.collections.PathCollection at 0x7f2fa45fdc18>"
      ]
     },
     "execution_count": 10,
     "metadata": {},
     "output_type": "execute_result"
    },
    {
     "data": {
      "image/png": "[encoded data removed]",
      "text/plain": [
       "<matplotlib.figure.Figure at 0x7f2fa4bb6860>"
      ]
     },
     "metadata": {},
     "output_type": "display_data"
    }
   ],
   "source": [
    "plt.scatter(x[:,0], x[:,1])"
   ]
  },
  {
   "cell_type": "markdown",
   "metadata": {},
   "source": [
    "### Model fitting"
   ]
  },
  {
   "cell_type": "code",
   "execution_count": 11,
   "metadata": {
    "collapsed": true
   },
   "outputs": [],
   "source": [
    "def plotDecision(X, model, h=.05):\n",
    "    # X - some data in 2dimensional np.array\n",
    "    x_min, x_max = X[:, 0].min() - 1, X[:, 0].max() + 1\n",
    "    y_min, y_max = X[:, 1].min() - 1, X[:, 1].max() + 1\n",
    "    xx, yy = np.meshgrid(np.arange(x_min, x_max, h),\n",
    "                         np.arange(y_min, y_max, h))\n",
    "\n",
    "    # here \"model\" is your model's prediction (classification) function\n",
    "    Z = model(np.c_[xx.ravel(), yy.ravel()]) \n",
    "\n",
    "    # Put the result into a color plot\n",
    "    Z = Z.reshape(xx.shape)\n",
    "    plt.contourf(xx, yy, Z, cmap=plt.cm.Paired)\n",
    "    #plt.axis('off')"
   ]
  },
  {
   "cell_type": "code",
   "execution_count": 12,
   "metadata": {
    "collapsed": true
   },
   "outputs": [],
   "source": [
    "def gradDesc(cost, params, lr=.00005):\n",
    "    grads = T.grad(cost=cost, wrt=params)\n",
    "    updates = []\n",
    "    for p, g in zip(params, grads):\n",
    "        update = p - lr * g\n",
    "        updates.append((p, update))\n",
    "    return updates"
   ]
  },
  {
   "cell_type": "code",
   "execution_count": 22,
   "metadata": {
    "collapsed": true
   },
   "outputs": [],
   "source": [
    "def mixtureTrain(X, k, batch_size = 100, iters = 400, alpha = .005,\n",
    "         rng = np.random.RandomState()):\n",
    "    x = T.matrix('x')\n",
    "    \n",
    "    #Set up model\n",
    "    gens = [GaussianGenerator(ndim=2, scale = k**2)\n",
    "            for i in range(k)]\n",
    "    #genParams = [gen.params for gen in gens]\n",
    "    genParams = gens[0].params\n",
    "    for gen in gens[1:]:\n",
    "        genParams = genParams + gen.params\n",
    "    \n",
    "    dataCrit = MLP(x, X.shape[1], k+1, n_hidden = 300)\n",
    "    critParams = dataCrit.params\n",
    "    genCrits = [MLP(gens[i].sample(batch_size), #use full batch size\n",
    "                    X.shape[1], k+1, n_hidden = 300, \n",
    "                    params = critParams) #params must be shared\n",
    "                for i in range(len(gens))\n",
    "               ]\n",
    "    \n",
    "    #Estimate mixture\n",
    "    mixture = T.mean(dataCrit.p_y[:,1:] \\\n",
    "                     / dataCrit.p_y[:,1:].sum(axis = 1)[:, np.newaxis], \n",
    "                     axis = 0)\n",
    "    #Exclude mixture estimate from theano graph. \n",
    "    #We do not want to compute or use its gradients \n",
    "    mixture = theano.gradient.disconnected_grad(mixture)\n",
    "    \n",
    "    computeMixture = theano.function(inputs = [x], outputs = mixture)\n",
    "    \n",
    "    #Set up optimization\n",
    "    #Critic\n",
    "    critLoss = -T.mean(T.log(dataCrit.p_y[:,0])) \\\n",
    "                -T.sum(\n",
    "                    [\n",
    "                        mixture[i] * T.mean(T.log(genCrits[i].p_y[:,i+1]))\n",
    "                        for i in range(k) \n",
    "                    ]\n",
    "                )\n",
    "    critUpdates = gradDesc(critLoss, critParams, lr=alpha)\n",
    "    trainCrit = theano.function(\n",
    "            inputs = [x],\n",
    "            outputs = critLoss,\n",
    "            updates = critUpdates\n",
    "        )\n",
    "    \n",
    "    #Generator (Total mixture)\n",
    "    \n",
    "    genLoss = T.sum(\n",
    "                    [\n",
    "                        T.mean(T.log(genCrits[i].p_y[:,i+1]/T.sum(genCrits[i].p_y[:,[0,i+1]], axis = 1)))\n",
    "                        for i in range(k) \n",
    "                    ]\n",
    "                )\n",
    "    genUpdates = gradDesc(genLoss, genParams, lr=alpha) \n",
    "    \n",
    "    trainGen = theano.function(\n",
    "            inputs = [],\n",
    "            outputs = genLoss,\n",
    "            updates = genUpdates\n",
    "        )\n",
    "\n",
    "    \n",
    "    print(\"\\nBegin training...\")\n",
    "    \n",
    "    #Plot of initial model\n",
    "    gX = []\n",
    "    gY = []\n",
    "    for i in range(k):\n",
    "        g = gens[i]\n",
    "        z = g.sample(int(n/k)).eval()\n",
    "        gX.append(z)\n",
    "    gX = np.vstack(gX)\n",
    "\n",
    "    plt.figure()\n",
    "    plt.scatter(X[:,0], X[:,1])\n",
    "    plt.scatter(gX[:,0], gX[:,1])\n",
    "    plt.show()\n",
    "    \n",
    "    #Train\n",
    "    crit_losses = []\n",
    "    gen_losses = []\n",
    "    for i in log_progress(range(iters), every = 1, name = \"Iteration\"):\n",
    "        crit_loss = trainCrit(\n",
    "            X[rng.randint(X.shape[0], size=batch_size)]\n",
    "        )\n",
    "        gen_loss = trainGen()\n",
    "        crit_losses.append(crit_loss)\n",
    "        gen_losses.append(gen_loss)\n",
    "        \n",
    "        if i in [1, 10, 5000, 10000, 30000, 50000, 80000, 100000, 120000, 150000, 180000]:\n",
    "            gX = []\n",
    "            gY = []\n",
    "            for j in range(k):\n",
    "                g = gens[j]\n",
    "                z = g.sample(int(np.floor(computeMixture(X)[j] * n))).eval()\n",
    "                gX.append(z)\n",
    "            gX = np.vstack(gX)\n",
    "\n",
    "            plt.figure()\n",
    "            plt.title(i)\n",
    "            plotDecision(np.vstack((X, gX)), dataCrit.cluster)\n",
    "            plt.scatter(X[:,0], X[:,1])\n",
    "            plt.scatter(gX[:,0], gX[:,1])\n",
    "            plt.show()\n",
    "    plt.figure()\n",
    "    plt.plot(crit_losses)\n",
    "    plt.plot(gen_losses)\n",
    "    \n",
    "    #Plot of final model\n",
    "    gX = []\n",
    "    gY = []\n",
    "    for i in range(k):\n",
    "        g = gens[i]\n",
    "        z = g.sample(int(np.floor(computeMixture(X)[i] * n))).eval()\n",
    "        gX.append(z)\n",
    "    gX = np.vstack(gX)\n",
    "\n",
    "    plt.figure()\n",
    "    plotDecision(np.vstack((X, gX)), dataCrit.predict)\n",
    "    plt.scatter(X[:,0], X[:,1])\n",
    "    plt.scatter(gX[:,0], gX[:,1])\n",
    "    plt.show()\n",
    "    \n",
    "    return(critParams, gens, computeMixture(X))"
   ]
  },
  {
   "cell_type": "code",
   "execution_count": 23,
   "metadata": {
    "scrolled": false
   },
   "outputs": [
    {
     "name": "stdout",
     "output_type": "stream",
     "text": [
      "\n",
      "Begin training...\n"
     ]
    },
    {
     "data": {
      "image/png": "[encoded data removed]",
      "text/plain": [
       "<matplotlib.figure.Figure at 0x7f2f8360d400>"
      ]
     },
     "metadata": {},
     "output_type": "display_data"
    },
    {
     "data": {
      "application/vnd.jupyter.widget-view+json": {
       "model_id": "e566168e6afc4462914fda24459d4d91"
      }
     },
     "metadata": {},
     "output_type": "display_data"
    },
    {
     "data": {
      "image/png": "[encoded data removed]",
      "text/plain": [
       "<matplotlib.figure.Figure at 0x7f2f8827cac8>"
      ]
     },
     "metadata": {},
     "output_type": "display_data"
    },
    {
     "data": {
      "image/png": "[encoded data removed]",
      "text/plain": [
       "<matplotlib.figure.Figure at 0x7f2f8904a630>"
      ]
     },
     "metadata": {},
     "output_type": "display_data"
    },
    {
     "data": {
      "image/png": "[encoded data removed]",
      "text/plain": [
       "<matplotlib.figure.Figure at 0x7f2f8a9785f8>"
      ]
     },
     "metadata": {},
     "output_type": "display_data"
    },
    {
     "data": {
      "image/png": "[encoded data removed]",
      "text/plain": [
       "<matplotlib.figure.Figure at 0x7f2f829c93c8>"
      ]
     },
     "metadata": {},
     "output_type": "display_data"
    },
    {
     "data": {
      "image/png": "[encoded data removed]",
      "text/plain": [
       "<matplotlib.figure.Figure at 0x7f2f89130b70>"
      ]
     },
     "metadata": {},
     "output_type": "display_data"
    },
    {
     "ename": "GpuArrayException",
     "evalue": "b'out of memory'\nApply node that caused the error: GpuFromHost<None>(dot.0)\nToposort index: 4\nInputs types: [TensorType(float64, matrix)]\nInputs shapes: [(1206282, 300)]\nInputs strides: [(2400, 8)]\nInputs values: ['not shown']\nOutputs clients: [[GpuElemwise{Composite{tanh((i0 + i1))}}[(0, 0)]<gpuarray>(GpuFromHost<None>.0, InplaceGpuDimShuffle{x,0}.0)]]\n\nHINT: Re-running with most Theano optimization disabled could give you a back-trace of when this node was created. This can be done with by setting the Theano flag 'optimizer=fast_compile'. If that does not work, Theano optimizations can be disabled with 'optimizer=None'.\nHINT: Use the Theano flag 'exception_verbosity=high' for a debugprint and storage map footprint of this apply node.",
     "output_type": "error",
     "traceback": [
      "\u001b[0;31m---------------------------------------------------------------------------\u001b[0m",
      "\u001b[0;31mGpuArrayException\u001b[0m                         Traceback (most recent call last)",
      "\u001b[0;32m/home/hudson/.local/lib/python3.5/site-packages/theano/compile/function_module.py\u001b[0m in \u001b[0;36m__call__\u001b[0;34m(self, *args, **kwargs)\u001b[0m\n\u001b[1;32m    883\u001b[0m             \u001b[0moutputs\u001b[0m \u001b[0;34m=\u001b[0m\u001b[0;31m\\\u001b[0m\u001b[0;34m\u001b[0m\u001b[0m\n\u001b[0;32m--> 884\u001b[0;31m                 \u001b[0mself\u001b[0m\u001b[0;34m.\u001b[0m\u001b[0mfn\u001b[0m\u001b[0;34m(\u001b[0m\u001b[0;34m)\u001b[0m \u001b[0;32mif\u001b[0m \u001b[0moutput_subset\u001b[0m \u001b[0;32mis\u001b[0m \u001b[0;32mNone\u001b[0m \u001b[0;32melse\u001b[0m\u001b[0;31m\\\u001b[0m\u001b[0;34m\u001b[0m\u001b[0m\n\u001b[0m\u001b[1;32m    885\u001b[0m                 \u001b[0mself\u001b[0m\u001b[0;34m.\u001b[0m\u001b[0mfn\u001b[0m\u001b[0;34m(\u001b[0m\u001b[0moutput_subset\u001b[0m\u001b[0;34m=\u001b[0m\u001b[0moutput_subset\u001b[0m\u001b[0;34m)\u001b[0m\u001b[0;34m\u001b[0m\u001b[0m\n",
      "\u001b[0;32mpygpu/gpuarray.pyx\u001b[0m in \u001b[0;36mpygpu.gpuarray.pygpu_fromhostdata (pygpu/gpuarray.c:9851)\u001b[0;34m()\u001b[0m\n",
      "\u001b[0;32mpygpu/gpuarray.pyx\u001b[0m in \u001b[0;36mpygpu.gpuarray.array_copy_from_host (pygpu/gpuarray.c:5817)\u001b[0;34m()\u001b[0m\n",
      "\u001b[0;31mGpuArrayException\u001b[0m: b'out of memory'",
      "\nDuring handling of the above exception, another exception occurred:\n",
      "\u001b[0;31mGpuArrayException\u001b[0m                         Traceback (most recent call last)",
      "\u001b[0;32m<ipython-input-23-794023be5307>\u001b[0m in \u001b[0;36m<module>\u001b[0;34m()\u001b[0m\n\u001b[0;32m----> 1\u001b[0;31m \u001b[0mcritParams\u001b[0m\u001b[0;34m,\u001b[0m \u001b[0mgens\u001b[0m\u001b[0;34m,\u001b[0m \u001b[0mmixture\u001b[0m \u001b[0;34m=\u001b[0m \u001b[0mmixtureTrain\u001b[0m\u001b[0;34m(\u001b[0m\u001b[0mx\u001b[0m\u001b[0;34m,\u001b[0m \u001b[0;36m3\u001b[0m\u001b[0;34m,\u001b[0m \u001b[0miters\u001b[0m \u001b[0;34m=\u001b[0m \u001b[0;36m200000\u001b[0m\u001b[0;34m)\u001b[0m\u001b[0;34m\u001b[0m\u001b[0m\n\u001b[0m",
      "\u001b[0;32m<ipython-input-22-203096f62424>\u001b[0m in \u001b[0;36mmixtureTrain\u001b[0;34m(X, k, batch_size, iters, alpha, rng)\u001b[0m\n\u001b[1;32m     98\u001b[0m             \u001b[0mplt\u001b[0m\u001b[0;34m.\u001b[0m\u001b[0mfigure\u001b[0m\u001b[0;34m(\u001b[0m\u001b[0;34m)\u001b[0m\u001b[0;34m\u001b[0m\u001b[0m\n\u001b[1;32m     99\u001b[0m             \u001b[0mplt\u001b[0m\u001b[0;34m.\u001b[0m\u001b[0mtitle\u001b[0m\u001b[0;34m(\u001b[0m\u001b[0mi\u001b[0m\u001b[0;34m)\u001b[0m\u001b[0;34m\u001b[0m\u001b[0m\n\u001b[0;32m--> 100\u001b[0;31m             \u001b[0mplotDecision\u001b[0m\u001b[0;34m(\u001b[0m\u001b[0mnp\u001b[0m\u001b[0;34m.\u001b[0m\u001b[0mvstack\u001b[0m\u001b[0;34m(\u001b[0m\u001b[0;34m(\u001b[0m\u001b[0mX\u001b[0m\u001b[0;34m,\u001b[0m \u001b[0mgX\u001b[0m\u001b[0;34m)\u001b[0m\u001b[0;34m)\u001b[0m\u001b[0;34m,\u001b[0m \u001b[0mdataCrit\u001b[0m\u001b[0;34m.\u001b[0m\u001b[0mcluster\u001b[0m\u001b[0;34m)\u001b[0m\u001b[0;34m\u001b[0m\u001b[0m\n\u001b[0m\u001b[1;32m    101\u001b[0m             \u001b[0mplt\u001b[0m\u001b[0;34m.\u001b[0m\u001b[0mscatter\u001b[0m\u001b[0;34m(\u001b[0m\u001b[0mX\u001b[0m\u001b[0;34m[\u001b[0m\u001b[0;34m:\u001b[0m\u001b[0;34m,\u001b[0m\u001b[0;36m0\u001b[0m\u001b[0;34m]\u001b[0m\u001b[0;34m,\u001b[0m \u001b[0mX\u001b[0m\u001b[0;34m[\u001b[0m\u001b[0;34m:\u001b[0m\u001b[0;34m,\u001b[0m\u001b[0;36m1\u001b[0m\u001b[0;34m]\u001b[0m\u001b[0;34m)\u001b[0m\u001b[0;34m\u001b[0m\u001b[0m\n\u001b[1;32m    102\u001b[0m             \u001b[0mplt\u001b[0m\u001b[0;34m.\u001b[0m\u001b[0mscatter\u001b[0m\u001b[0;34m(\u001b[0m\u001b[0mgX\u001b[0m\u001b[0;34m[\u001b[0m\u001b[0;34m:\u001b[0m\u001b[0;34m,\u001b[0m\u001b[0;36m0\u001b[0m\u001b[0;34m]\u001b[0m\u001b[0;34m,\u001b[0m \u001b[0mgX\u001b[0m\u001b[0;34m[\u001b[0m\u001b[0;34m:\u001b[0m\u001b[0;34m,\u001b[0m\u001b[0;36m1\u001b[0m\u001b[0;34m]\u001b[0m\u001b[0;34m)\u001b[0m\u001b[0;34m\u001b[0m\u001b[0m\n",
      "\u001b[0;32m<ipython-input-11-0a0137845018>\u001b[0m in \u001b[0;36mplotDecision\u001b[0;34m(X, model, h)\u001b[0m\n\u001b[1;32m      7\u001b[0m \u001b[0;34m\u001b[0m\u001b[0m\n\u001b[1;32m      8\u001b[0m     \u001b[0;31m# here \"model\" is your model's prediction (classification) function\u001b[0m\u001b[0;34m\u001b[0m\u001b[0;34m\u001b[0m\u001b[0m\n\u001b[0;32m----> 9\u001b[0;31m     \u001b[0mZ\u001b[0m \u001b[0;34m=\u001b[0m \u001b[0mmodel\u001b[0m\u001b[0;34m(\u001b[0m\u001b[0mnp\u001b[0m\u001b[0;34m.\u001b[0m\u001b[0mc_\u001b[0m\u001b[0;34m[\u001b[0m\u001b[0mxx\u001b[0m\u001b[0;34m.\u001b[0m\u001b[0mravel\u001b[0m\u001b[0;34m(\u001b[0m\u001b[0;34m)\u001b[0m\u001b[0;34m,\u001b[0m \u001b[0myy\u001b[0m\u001b[0;34m.\u001b[0m\u001b[0mravel\u001b[0m\u001b[0;34m(\u001b[0m\u001b[0;34m)\u001b[0m\u001b[0;34m]\u001b[0m\u001b[0;34m)\u001b[0m\u001b[0;34m\u001b[0m\u001b[0m\n\u001b[0m\u001b[1;32m     10\u001b[0m \u001b[0;34m\u001b[0m\u001b[0m\n\u001b[1;32m     11\u001b[0m     \u001b[0;31m# Put the result into a color plot\u001b[0m\u001b[0;34m\u001b[0m\u001b[0;34m\u001b[0m\u001b[0m\n",
      "\u001b[0;32m<ipython-input-15-d9640a85f86b>\u001b[0m in \u001b[0;36mcluster\u001b[0;34m(self, x)\u001b[0m\n\u001b[1;32m     40\u001b[0m     \u001b[0;32mdef\u001b[0m \u001b[0mcluster\u001b[0m\u001b[0;34m(\u001b[0m\u001b[0mself\u001b[0m\u001b[0;34m,\u001b[0m \u001b[0mx\u001b[0m\u001b[0;34m)\u001b[0m\u001b[0;34m:\u001b[0m\u001b[0;34m\u001b[0m\u001b[0m\n\u001b[1;32m     41\u001b[0m         \u001b[0mmlp\u001b[0m \u001b[0;34m=\u001b[0m \u001b[0mMLP\u001b[0m\u001b[0;34m(\u001b[0m\u001b[0mx\u001b[0m\u001b[0;34m,\u001b[0m \u001b[0mself\u001b[0m\u001b[0;34m.\u001b[0m\u001b[0mn_in\u001b[0m\u001b[0;34m,\u001b[0m \u001b[0mself\u001b[0m\u001b[0;34m.\u001b[0m\u001b[0mn_out\u001b[0m\u001b[0;34m,\u001b[0m \u001b[0mself\u001b[0m\u001b[0;34m.\u001b[0m\u001b[0mn_hidden\u001b[0m\u001b[0;34m,\u001b[0m \u001b[0mself\u001b[0m\u001b[0;34m.\u001b[0m\u001b[0mparams\u001b[0m\u001b[0;34m,\u001b[0m \u001b[0mself\u001b[0m\u001b[0;34m.\u001b[0m\u001b[0mrng\u001b[0m\u001b[0;34m)\u001b[0m\u001b[0;34m\u001b[0m\u001b[0m\n\u001b[0;32m---> 42\u001b[0;31m         \u001b[0;32mreturn\u001b[0m\u001b[0;34m(\u001b[0m\u001b[0mmlp\u001b[0m\u001b[0;34m.\u001b[0m\u001b[0mcluster_pred\u001b[0m\u001b[0;34m.\u001b[0m\u001b[0meval\u001b[0m\u001b[0;34m(\u001b[0m\u001b[0;34m)\u001b[0m\u001b[0;34m)\u001b[0m\u001b[0;34m\u001b[0m\u001b[0m\n\u001b[0m",
      "\u001b[0;32m/home/hudson/.local/lib/python3.5/site-packages/theano/gof/graph.py\u001b[0m in \u001b[0;36meval\u001b[0;34m(self, inputs_to_values)\u001b[0m\n\u001b[1;32m    518\u001b[0m         \u001b[0margs\u001b[0m \u001b[0;34m=\u001b[0m \u001b[0;34m[\u001b[0m\u001b[0minputs_to_values\u001b[0m\u001b[0;34m[\u001b[0m\u001b[0mparam\u001b[0m\u001b[0;34m]\u001b[0m \u001b[0;32mfor\u001b[0m \u001b[0mparam\u001b[0m \u001b[0;32min\u001b[0m \u001b[0minputs\u001b[0m\u001b[0;34m]\u001b[0m\u001b[0;34m\u001b[0m\u001b[0m\n\u001b[1;32m    519\u001b[0m \u001b[0;34m\u001b[0m\u001b[0m\n\u001b[0;32m--> 520\u001b[0;31m         \u001b[0mrval\u001b[0m \u001b[0;34m=\u001b[0m \u001b[0mself\u001b[0m\u001b[0;34m.\u001b[0m\u001b[0m_fn_cache\u001b[0m\u001b[0;34m[\u001b[0m\u001b[0minputs\u001b[0m\u001b[0;34m]\u001b[0m\u001b[0;34m(\u001b[0m\u001b[0;34m*\u001b[0m\u001b[0margs\u001b[0m\u001b[0;34m)\u001b[0m\u001b[0;34m\u001b[0m\u001b[0m\n\u001b[0m\u001b[1;32m    521\u001b[0m \u001b[0;34m\u001b[0m\u001b[0m\n\u001b[1;32m    522\u001b[0m         \u001b[0;32mreturn\u001b[0m \u001b[0mrval\u001b[0m\u001b[0;34m\u001b[0m\u001b[0m\n",
      "\u001b[0;32m/home/hudson/.local/lib/python3.5/site-packages/theano/compile/function_module.py\u001b[0m in \u001b[0;36m__call__\u001b[0;34m(self, *args, **kwargs)\u001b[0m\n\u001b[1;32m    896\u001b[0m                     \u001b[0mnode\u001b[0m\u001b[0;34m=\u001b[0m\u001b[0mself\u001b[0m\u001b[0;34m.\u001b[0m\u001b[0mfn\u001b[0m\u001b[0;34m.\u001b[0m\u001b[0mnodes\u001b[0m\u001b[0;34m[\u001b[0m\u001b[0mself\u001b[0m\u001b[0;34m.\u001b[0m\u001b[0mfn\u001b[0m\u001b[0;34m.\u001b[0m\u001b[0mposition_of_error\u001b[0m\u001b[0;34m]\u001b[0m\u001b[0;34m,\u001b[0m\u001b[0;34m\u001b[0m\u001b[0m\n\u001b[1;32m    897\u001b[0m                     \u001b[0mthunk\u001b[0m\u001b[0;34m=\u001b[0m\u001b[0mthunk\u001b[0m\u001b[0;34m,\u001b[0m\u001b[0;34m\u001b[0m\u001b[0m\n\u001b[0;32m--> 898\u001b[0;31m                     storage_map=getattr(self.fn, 'storage_map', None))\n\u001b[0m\u001b[1;32m    899\u001b[0m             \u001b[0;32melse\u001b[0m\u001b[0;34m:\u001b[0m\u001b[0;34m\u001b[0m\u001b[0m\n\u001b[1;32m    900\u001b[0m                 \u001b[0;31m# old-style linkers raise their own exceptions\u001b[0m\u001b[0;34m\u001b[0m\u001b[0;34m\u001b[0m\u001b[0m\n",
      "\u001b[0;32m/home/hudson/.local/lib/python3.5/site-packages/theano/gof/link.py\u001b[0m in \u001b[0;36mraise_with_op\u001b[0;34m(node, thunk, exc_info, storage_map)\u001b[0m\n\u001b[1;32m    323\u001b[0m         \u001b[0;31m# extra long error message in that case.\u001b[0m\u001b[0;34m\u001b[0m\u001b[0;34m\u001b[0m\u001b[0m\n\u001b[1;32m    324\u001b[0m         \u001b[0;32mpass\u001b[0m\u001b[0;34m\u001b[0m\u001b[0m\n\u001b[0;32m--> 325\u001b[0;31m     \u001b[0mreraise\u001b[0m\u001b[0;34m(\u001b[0m\u001b[0mexc_type\u001b[0m\u001b[0;34m,\u001b[0m \u001b[0mexc_value\u001b[0m\u001b[0;34m,\u001b[0m \u001b[0mexc_trace\u001b[0m\u001b[0;34m)\u001b[0m\u001b[0;34m\u001b[0m\u001b[0m\n\u001b[0m\u001b[1;32m    326\u001b[0m \u001b[0;34m\u001b[0m\u001b[0m\n\u001b[1;32m    327\u001b[0m \u001b[0;34m\u001b[0m\u001b[0m\n",
      "\u001b[0;32m/home/hudson/anaconda3/envs/theano/lib/python3.5/site-packages/six.py\u001b[0m in \u001b[0;36mreraise\u001b[0;34m(tp, value, tb)\u001b[0m\n\u001b[1;32m    683\u001b[0m             \u001b[0mvalue\u001b[0m \u001b[0;34m=\u001b[0m \u001b[0mtp\u001b[0m\u001b[0;34m(\u001b[0m\u001b[0;34m)\u001b[0m\u001b[0;34m\u001b[0m\u001b[0m\n\u001b[1;32m    684\u001b[0m         \u001b[0;32mif\u001b[0m \u001b[0mvalue\u001b[0m\u001b[0;34m.\u001b[0m\u001b[0m__traceback__\u001b[0m \u001b[0;32mis\u001b[0m \u001b[0;32mnot\u001b[0m \u001b[0mtb\u001b[0m\u001b[0;34m:\u001b[0m\u001b[0;34m\u001b[0m\u001b[0m\n\u001b[0;32m--> 685\u001b[0;31m             \u001b[0;32mraise\u001b[0m \u001b[0mvalue\u001b[0m\u001b[0;34m.\u001b[0m\u001b[0mwith_traceback\u001b[0m\u001b[0;34m(\u001b[0m\u001b[0mtb\u001b[0m\u001b[0;34m)\u001b[0m\u001b[0;34m\u001b[0m\u001b[0m\n\u001b[0m\u001b[1;32m    686\u001b[0m         \u001b[0;32mraise\u001b[0m \u001b[0mvalue\u001b[0m\u001b[0;34m\u001b[0m\u001b[0m\n\u001b[1;32m    687\u001b[0m \u001b[0;34m\u001b[0m\u001b[0m\n",
      "\u001b[0;32m/home/hudson/.local/lib/python3.5/site-packages/theano/compile/function_module.py\u001b[0m in \u001b[0;36m__call__\u001b[0;34m(self, *args, **kwargs)\u001b[0m\n\u001b[1;32m    882\u001b[0m         \u001b[0;32mtry\u001b[0m\u001b[0;34m:\u001b[0m\u001b[0;34m\u001b[0m\u001b[0m\n\u001b[1;32m    883\u001b[0m             \u001b[0moutputs\u001b[0m \u001b[0;34m=\u001b[0m\u001b[0;31m\\\u001b[0m\u001b[0;34m\u001b[0m\u001b[0m\n\u001b[0;32m--> 884\u001b[0;31m                 \u001b[0mself\u001b[0m\u001b[0;34m.\u001b[0m\u001b[0mfn\u001b[0m\u001b[0;34m(\u001b[0m\u001b[0;34m)\u001b[0m \u001b[0;32mif\u001b[0m \u001b[0moutput_subset\u001b[0m \u001b[0;32mis\u001b[0m \u001b[0;32mNone\u001b[0m \u001b[0;32melse\u001b[0m\u001b[0;31m\\\u001b[0m\u001b[0;34m\u001b[0m\u001b[0m\n\u001b[0m\u001b[1;32m    885\u001b[0m                 \u001b[0mself\u001b[0m\u001b[0;34m.\u001b[0m\u001b[0mfn\u001b[0m\u001b[0;34m(\u001b[0m\u001b[0moutput_subset\u001b[0m\u001b[0;34m=\u001b[0m\u001b[0moutput_subset\u001b[0m\u001b[0;34m)\u001b[0m\u001b[0;34m\u001b[0m\u001b[0m\n\u001b[1;32m    886\u001b[0m         \u001b[0;32mexcept\u001b[0m \u001b[0mException\u001b[0m\u001b[0;34m:\u001b[0m\u001b[0;34m\u001b[0m\u001b[0m\n",
      "\u001b[0;32mpygpu/gpuarray.pyx\u001b[0m in \u001b[0;36mpygpu.gpuarray.pygpu_fromhostdata (pygpu/gpuarray.c:9851)\u001b[0;34m()\u001b[0m\n",
      "\u001b[0;32mpygpu/gpuarray.pyx\u001b[0m in \u001b[0;36mpygpu.gpuarray.array_copy_from_host (pygpu/gpuarray.c:5817)\u001b[0;34m()\u001b[0m\n",
      "\u001b[0;31mGpuArrayException\u001b[0m: b'out of memory'\nApply node that caused the error: GpuFromHost<None>(dot.0)\nToposort index: 4\nInputs types: [TensorType(float64, matrix)]\nInputs shapes: [(1206282, 300)]\nInputs strides: [(2400, 8)]\nInputs values: ['not shown']\nOutputs clients: [[GpuElemwise{Composite{tanh((i0 + i1))}}[(0, 0)]<gpuarray>(GpuFromHost<None>.0, InplaceGpuDimShuffle{x,0}.0)]]\n\nHINT: Re-running with most Theano optimization disabled could give you a back-trace of when this node was created. This can be done with by setting the Theano flag 'optimizer=fast_compile'. If that does not work, Theano optimizations can be disabled with 'optimizer=None'.\nHINT: Use the Theano flag 'exception_verbosity=high' for a debugprint and storage map footprint of this apply node."
     ]
    },
    {
     "data": {
      "image/png": "[encoded data removed]",
      "text/plain": [
       "<matplotlib.figure.Figure at 0x7f2f89011c18>"
      ]
     },
     "metadata": {},
     "output_type": "display_data"
    }
   ],
   "source": [
    "critParams, gens, mixture = mixtureTrain(x, 3, iters = 200000)"
   ]
  },
  {
   "cell_type": "code",
   "execution_count": null,
   "metadata": {
    "collapsed": true
   },
   "outputs": [],
   "source": [
    "print(mixture)"
   ]
  },
  {
   "cell_type": "code",
   "execution_count": null,
   "metadata": {
    "collapsed": true
   },
   "outputs": [],
   "source": []
  }
 ],
 "metadata": {
  "anaconda-cloud": {},
  "kernelspec": {
   "display_name": "Python [conda env:theano]",
   "language": "python",
   "name": "conda-env-theano-py"
  },
  "language_info": {
   "codemirror_mode": {
    "name": "ipython",
    "version": 3
   },
   "file_extension": ".py",
   "mimetype": "text/x-python",
   "name": "python",
   "nbconvert_exporter": "python",
   "pygments_lexer": "ipython3",
   "version": "3.5.3"
  }
 },
 "nbformat": 4,
 "nbformat_minor": 2
}

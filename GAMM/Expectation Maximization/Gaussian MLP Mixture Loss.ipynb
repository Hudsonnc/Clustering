{
 "cells": [
  {
   "cell_type": "markdown",
   "metadata": {},
   "source": [
    "# The Machinery"
   ]
  },
  {
   "cell_type": "markdown",
   "metadata": {},
   "source": [
    "For proof of concept, I consider Gaussian generative models with MLP discriminator. The Gaussian generative models take data from n-dimensional latent space $z \\sim \\mathcal{N}(0, I)$ to arbitrary n-dimensional $\\mathcal{N}(\\mu, \\Sigma)$ by learned affine transformation."
   ]
  },
  {
   "cell_type": "code",
   "execution_count": 1,
   "metadata": {},
   "outputs": [
    {
     "name": "stderr",
     "output_type": "stream",
     "text": [
      "/home/hudson/.local/lib/python3.5/site-packages/theano/gpuarray/dnn.py:135: UserWarning: Your cuDNN version is more recent than Theano. If you encounter problems, try updating Theano or downgrading cuDNN to version 5.1.\n",
      "  warnings.warn(\"Your cuDNN version is more recent than \"\n",
      "Using cuDNN version 6020 on context None\n",
      "Mapped name None to device cuda0: GeForce GTX 1080 (0000:02:00.0)\n"
     ]
    }
   ],
   "source": [
    "import numpy as np\n",
    "import theano as theano\n",
    "import theano.tensor as T"
   ]
  },
  {
   "cell_type": "code",
   "execution_count": 2,
   "metadata": {
    "collapsed": true
   },
   "outputs": [],
   "source": [
    "from matplotlib import pyplot as plt\n",
    "%matplotlib inline"
   ]
  },
  {
   "cell_type": "code",
   "execution_count": 3,
   "metadata": {
    "collapsed": true
   },
   "outputs": [],
   "source": [
    "import sys\n",
    "sys.path.append('/home/hudson/Projects/GAMM')\n",
    "from lib.utils import log_progress"
   ]
  },
  {
   "cell_type": "markdown",
   "metadata": {},
   "source": [
    "## Generator"
   ]
  },
  {
   "cell_type": "code",
   "execution_count": 4,
   "metadata": {
    "collapsed": true
   },
   "outputs": [],
   "source": [
    "class GaussianGenerator(object):\n",
    "    def __init__(self, ndim= 1, mu=None, sig=None, scale=1):\n",
    "        if mu is None:\n",
    "            mu = scale*np.random.randn(ndim,)\n",
    "        mu = theano.shared(value=mu, name='mu', borrow=True)\n",
    "        if sig is None:\n",
    "            sig = np.random.randn(ndim, ndim)\n",
    "        sig = theano.shared(value=sig, name='sigma', borrow=True)\n",
    "        self.mu = mu\n",
    "        self.sig = sig\n",
    "        \n",
    "        ndim = mu.shape[0].eval()\n",
    "        self.ndim = ndim\n",
    "        \n",
    "        self.params = [self.mu, self.sig]\n",
    "        \n",
    "    def sample(self, n=1):\n",
    "        z = np.random.randn(self.ndim, n)\n",
    "        out = (T.dot(self.sig, z).T + self.mu.T)\n",
    "        return(out)"
   ]
  },
  {
   "cell_type": "markdown",
   "metadata": {},
   "source": [
    "## Discriminator"
   ]
  },
  {
   "cell_type": "code",
   "execution_count": 5,
   "metadata": {
    "collapsed": true
   },
   "outputs": [],
   "source": [
    "class Hidden(object):\n",
    "    #http://deeplearning.net/tutorial/mlp.html\n",
    "    def __init__(self, input, n_in, n_out, W = None, b = None,\n",
    "                 activation = T.tanh, rng = np.random.RandomState()):\n",
    "        \n",
    "        self.input = input\n",
    "        \n",
    "        if W is None:\n",
    "            W_range = np.sqrt(6. / (n_in + n_out))\n",
    "            W_values = np.asarray(\n",
    "                rng.uniform(\n",
    "                    low = -W_range,\n",
    "                    high = W_range,\n",
    "                    size=(n_in, n_out)\n",
    "                ),\n",
    "                dtype=theano.config.floatX\n",
    "            )\n",
    "            if activation == T.nnet.sigmoid:\n",
    "                W_values *= 4\n",
    "            W = theano.shared(value=W_values, name='W', borrow=True)\n",
    "\n",
    "        if b is None:\n",
    "            b_values = np.zeros((n_out,), dtype=theano.config.floatX)\n",
    "            b = theano.shared(value=b_values, name='b', borrow=True)\n",
    "\n",
    "        self.W = W\n",
    "        self.b = b\n",
    "        \n",
    "        # parameters of the model\n",
    "        self.params = [self.W, self.b]\n",
    "        \n",
    "        lin_output = T.dot(input, self.W) + self.b\n",
    "        self.output = (\n",
    "            lin_output if activation is None\n",
    "            else activation(lin_output)\n",
    "        )"
   ]
  },
  {
   "cell_type": "code",
   "execution_count": 6,
   "metadata": {
    "collapsed": true
   },
   "outputs": [],
   "source": [
    "class LogisticRegression(object):\n",
    "    def __init__(self, input, n_in, n_out, W = None, b = None,\n",
    "                 rng = np.random.RandomState()):\n",
    "        \n",
    "        self.input = input\n",
    "        \n",
    "        if W is None:\n",
    "            W_range = np.sqrt(6. / (n_in + n_out))\n",
    "            W_values = np.asarray(\n",
    "                rng.uniform(\n",
    "                    low = -W_range,\n",
    "                    high = W_range,\n",
    "                    size=(n_in, n_out)\n",
    "                ),\n",
    "                dtype=theano.config.floatX\n",
    "            )\n",
    "            W = theano.shared(value=W_values, name='W', borrow=True)\n",
    "\n",
    "        if b is None:\n",
    "            b_values = np.zeros((n_out,), dtype=theano.config.floatX)\n",
    "            b = theano.shared(value=b_values, name='b', borrow=True)\n",
    "\n",
    "        self.W = W\n",
    "        self.b = b\n",
    "        \n",
    "        self.params = [self.W, self.b]\n",
    "        \n",
    "        self.p_y = T.nnet.softmax(T.dot(input, self.W) + b)\n",
    "        self.y_pred = T.argmax(self.p_y, axis=1)"
   ]
  },
  {
   "cell_type": "code",
   "execution_count": 7,
   "metadata": {
    "collapsed": true
   },
   "outputs": [],
   "source": [
    "class MLP(object):\n",
    "    def __init__(self, input, n_in, n_out, n_hidden=300, params = None,\n",
    "                 rng = np.random.RandomState()):\n",
    "        self.input = input\n",
    "        \n",
    "        hidden = Hidden(\n",
    "            input,\n",
    "            n_in, n_hidden,\n",
    "            W = None if params is None else params[0],\n",
    "            b = None if params is None else params[1],\n",
    "            rng = rng\n",
    "        )\n",
    "        self.hidden = hidden\n",
    "        \n",
    "        softmax = LogisticRegression(\n",
    "            self.hidden.output,\n",
    "            n_hidden, n_out,\n",
    "            W = None if params is None else params[2],\n",
    "            b = None if params is None else params[3],\n",
    "            rng = rng\n",
    "        )\n",
    "        self.softmax = softmax\n",
    "        \n",
    "        self.p_y = softmax.p_y\n",
    "        self.y_pred = softmax.y_pred\n",
    "        \n",
    "        self.params = hidden.params + softmax.params\n",
    "        "
   ]
  },
  {
   "cell_type": "markdown",
   "metadata": {},
   "source": [
    "# Bringing Softmax to GANs "
   ]
  },
  {
   "cell_type": "markdown",
   "metadata": {},
   "source": [
    "### Training the Discriminator:"
   ]
  },
  {
   "cell_type": "markdown",
   "metadata": {},
   "source": [
    "Given \n",
    "* data $\\mathbf{x} = x_1, ..., x_n$ distributed according to a mixture of k distributions, $p_x(x)$ \n",
    "* known latent distribution $z \\sim p_z(z)$\n",
    "* and k generative models $\\mathbf{G}_1(z), ..., \\mathbf{G}_k(z)$ with $\\mathbf{G}_i(z) \\sim p_{G_i}$,\n",
    "\n",
    "we may consider a discriminative model $\\mathbf{D}(x)$ which outputs a vector which *approximates* $<P(x \\sim p_x), P(x \\sim p_{G_1}), ..., P(x \\sim p_{G_k})>$. \n",
    "\n",
    "I will denote the entries of this vector as \n",
    "$<D_x, D_{G_1}, ..., D_{G_k}>$.\n",
    "\n",
    "To train $D$ for fixed $\\{\\mathbf{G}_i\\}$, we may minimize the cross entropy loss:\n",
    "$$-\\mathbb{E}_x[P(x \\sim p_x)log(D_x) + \\sum_{G_i} P(x \\sim p_{G_i})log D_{G_i}(x)]$$\n",
    "Aligning ourselves with the GAN formulation by Goodefllow, *et al.*, we assign equal values to $\\mathbb{E}_x[P(x \\sim p_x)]$ and $\\mathbb{E}_x[\\sum_{G_i}P(x \\sim p_{G_i})]$, yielding a cross entropy loss proportional to:\n",
    "$$-\\mathbb{E}_{x \\sim p_x}[log D_x(x)] - \\sum_{G_i} P(G_i) \\mathbb{E}_{z \\sim p_z}[log D_{G_i}(G_i(z))]$$\n",
    "where $P(G_i) = \\mathbb{E}_x[P(x \\sim p_{G_i}) / \\sum_{G_i}P(x \\sim p_{G_i})]$, which is extimated by $\\mathbb{E}_x[D_{G_i}(x) / \\sum_{G_i}D_{G_i}(x)]$"
   ]
  },
  {
   "cell_type": "markdown",
   "metadata": {},
   "source": [
    "### Training the Generator"
   ]
  },
  {
   "cell_type": "markdown",
   "metadata": {},
   "source": [
    "##### Total Mixture Loss"
   ]
  },
  {
   "cell_type": "markdown",
   "metadata": {},
   "source": [
    "We still wish to maximize the discriminator's probability of making a mistake between real and generated data (from a mixture of generators) as in the standard GAN. Maximize:\n",
    "$$-\\mathbb{E}_{x \\sim p_x}[log D_x(x)] - \\mathbb{E}_{z \\sim p_z}[log D_{G}(G(z))]$$\n",
    "$$=-\\mathbb{E}_{x \\sim p_x}[log D_x(x)] - \\sum_{G_i} P(G_i) \\mathbb{E}_{z \\sim p_z}[log D_{G}(G_i(z))]$$\n",
    "which is equivalent to maximizing \n",
    "$$- \\sum_{G_i} P(G_i) \\mathbb{E}_{z \\sim p_z}[log D_{G}(G_i(z))]$$\n",
    "\n",
    "where $D_{G}(x) = \\sum_{G_i} D_{G_i}(x) = 1 - D_x(x)$ and $G(z)$ is a mixture of $\\{G_i\\}$ with mixture proportions $\\{P(G_i)\\}$, extimated by $\\mathbb{E}_x[D_{G_i}(x) / \\sum_{G_i}D_{G_i}(x)]$ as above\n",
    "\n",
    "\n"
   ]
  },
  {
   "cell_type": "markdown",
   "metadata": {},
   "source": [
    "##### Individual Cluster Loss"
   ]
  },
  {
   "cell_type": "markdown",
   "metadata": {},
   "source": [
    "We may instead choose to train each individual generator on the portion of the observed data that corresponds best to that generator (a la expectation maximization). For $G_i \\in G_1, ..., G_k$, maximize:\n",
    "$$-\\mathbb{E}_{x \\sim p_{G_i}}[log \\hat{D}_x (x)] - \\mathbb{E}_{z \\sim p_z(z)}[log \\hat{D}_{G_i}(G_i(z))]$$\n",
    "which is eqivalent to maximizing \n",
    "$$- \\mathbb{E}_{z \\sim p_z(z)}[log \\hat{D}_{G_i}(G_i(z))]$$\n",
    "where $\\hat{D}_x$ and $\\hat{D}_{G_i}$ are the versions of $D_x$ and $D_{G_i}$ normalized to sum to 1 (marginal probabilities)."
   ]
  },
  {
   "cell_type": "markdown",
   "metadata": {},
   "source": [
    "## TODO: remark on relationship to EM"
   ]
  },
  {
   "cell_type": "markdown",
   "metadata": {},
   "source": [
    "### Data"
   ]
  },
  {
   "cell_type": "markdown",
   "metadata": {},
   "source": [
    "##### Distribution to fit. Mixture of Gaussians"
   ]
  },
  {
   "cell_type": "code",
   "execution_count": 8,
   "metadata": {
    "collapsed": true
   },
   "outputs": [],
   "source": [
    "n = 10000\n",
    "mixture = np.array([1, 1, 1])\n",
    "mixture = mixture/sum(mixture)\n",
    "x = []\n",
    "for proportion in mixture:\n",
    "    g = GaussianGenerator(ndim=2, scale = len(mixture)**2)\n",
    "    z = g.sample(int(proportion * n)).eval()\n",
    "    x.append(z)\n",
    "x = np.vstack(x).astype('float32')"
   ]
  },
  {
   "cell_type": "code",
   "execution_count": 9,
   "metadata": {
    "scrolled": false
   },
   "outputs": [
    {
     "data": {
      "text/plain": [
       "<matplotlib.collections.PathCollection at 0x7f3a3c3d50f0>"
      ]
     },
     "execution_count": 9,
     "metadata": {},
     "output_type": "execute_result"
    },
    {
     "data": {
      "image/png": "[encoded data removed]",
      "text/plain": [
       "<matplotlib.figure.Figure at 0x7f3a3d64e048>"
      ]
     },
     "metadata": {},
     "output_type": "display_data"
    }
   ],
   "source": [
    "plt.scatter(x[:,0], x[:,1])"
   ]
  },
  {
   "cell_type": "markdown",
   "metadata": {},
   "source": [
    "### Model fitting"
   ]
  },
  {
   "cell_type": "code",
   "execution_count": 10,
   "metadata": {
    "collapsed": true
   },
   "outputs": [],
   "source": [
    "def gradDesc(cost, params, lr=.00005):\n",
    "    grads = T.grad(cost=cost, wrt=params)\n",
    "    updates = []\n",
    "    for p, g in zip(params, grads):\n",
    "        update = p - lr * g\n",
    "        updates.append((p, update))\n",
    "    return updates"
   ]
  },
  {
   "cell_type": "code",
   "execution_count": 11,
   "metadata": {
    "collapsed": true
   },
   "outputs": [],
   "source": [
    "def mixtureTrain(X, k, batch_size = 100, iters = 400, alpha = .005,\n",
    "         rng = np.random.RandomState()):\n",
    "    x = T.matrix('x')\n",
    "    \n",
    "    #Set up model\n",
    "    gens = [GaussianGenerator(ndim=2, scale = k**2)\n",
    "            for i in range(k)]\n",
    "    #genParams = [gen.params for gen in gens]\n",
    "    genParams = gens[0].params\n",
    "    for gen in gens[1:]:\n",
    "        genParams = genParams + gen.params\n",
    "    \n",
    "    dataCrit = MLP(x, X.shape[1], k+1, n_hidden = 300)\n",
    "    critParams = dataCrit.params\n",
    "    genCrits = [MLP(gens[i].sample(batch_size), #use full batch size\n",
    "                    X.shape[1], k+1, n_hidden = 300, \n",
    "                    params = critParams) #params must be shared\n",
    "                for i in range(len(gens))\n",
    "               ]\n",
    "    \n",
    "    #Estimate mixture\n",
    "    mixture = T.mean(dataCrit.p_y[:,1:] \\\n",
    "                     / dataCrit.p_y[:,1:].sum(axis = 1)[:, np.newaxis], \n",
    "                     axis = 0)\n",
    "    #Exclude mixture estimate from theano graph. \n",
    "    #We do not want to compute or use its gradients \n",
    "    mixture = theano.gradient.disconnected_grad(mixture)\n",
    "    \n",
    "    computeMixture = theano.function(inputs = [x], outputs = mixture)\n",
    "    \n",
    "    #Set up optimization\n",
    "    #Critic\n",
    "    critLoss = -T.mean(T.log(dataCrit.p_y[:,0])) \\\n",
    "                -T.sum(\n",
    "                    [\n",
    "                        mixture[i] * T.mean(T.log(genCrits[i].p_y[:,i+1]))\n",
    "                        for i in range(k) \n",
    "                    ]\n",
    "                )\n",
    "    critUpdates = gradDesc(critLoss, critParams, lr=alpha)\n",
    "    trainCrit = theano.function(\n",
    "            inputs = [x],\n",
    "            outputs = critLoss,\n",
    "            updates = critUpdates\n",
    "        )\n",
    "    \n",
    "    #Generator (Total mixture)\n",
    "    genLoss = T.mean(T.log(dataCrit.p_y[:,0])) \\\n",
    "                +T.sum(\n",
    "                    [\n",
    "                        mixture[i] * T.mean(T.log(1 - genCrits[i].p_y[:,0]))\n",
    "                        for i in range(k) \n",
    "                    ]\n",
    "                )\n",
    "    genUpdates = gradDesc(genLoss, genParams, lr=alpha) \n",
    "    \n",
    "    trainGen = theano.function(\n",
    "            inputs = [x],\n",
    "            outputs = genLoss,\n",
    "            updates = genUpdates\n",
    "        )\n",
    "\n",
    "    \n",
    "    print(\"\\nBegin training...\")\n",
    "    \n",
    "    #Plot of initial model\n",
    "    gX = []\n",
    "    gY = []\n",
    "    for i in range(k):\n",
    "        g = gens[i]\n",
    "        z = g.sample(int(n/k)).eval()\n",
    "        gX.append(z)\n",
    "    gX = np.vstack(gX)\n",
    "\n",
    "    plt.figure()\n",
    "    plt.scatter(X[:,0], X[:,1])\n",
    "    plt.scatter(gX[:,0], gX[:,1])\n",
    "    plt.show()\n",
    "    \n",
    "    #Train\n",
    "    crit_losses = []\n",
    "    gen_losses = []\n",
    "    for i in log_progress(range(iters), every = 1, name = \"Iteration\"):\n",
    "        crit_loss = trainCrit(\n",
    "            X[rng.randint(X.shape[0], size=batch_size)]\n",
    "        )\n",
    "        gen_loss = trainGen(\n",
    "            X[rng.randint(X.shape[0], size=batch_size)]\n",
    "        )\n",
    "        crit_losses.append(crit_loss)\n",
    "        gen_losses.append(gen_loss)\n",
    "    plt.figure()\n",
    "    plt.plot(crit_losses)\n",
    "    plt.plot(gen_losses)\n",
    "    \n",
    "    #Plot of final model\n",
    "    gX = []\n",
    "    gY = []\n",
    "    for i in range(k):\n",
    "        g = gens[i]\n",
    "        z = g.sample(int(np.floor(computeMixture(X)[i] * n))).eval()\n",
    "        gX.append(z)\n",
    "    gX = np.vstack(gX)\n",
    "\n",
    "    plt.figure()\n",
    "    plt.scatter(X[:,0], X[:,1])\n",
    "    plt.scatter(gX[:,0], gX[:,1])\n",
    "    plt.show()\n",
    "    \n",
    "    return(critParams, gens, computeMixture(X))"
   ]
  },
  {
   "cell_type": "code",
   "execution_count": 12,
   "metadata": {
    "scrolled": false
   },
   "outputs": [
    {
     "name": "stdout",
     "output_type": "stream",
     "text": [
      "\n",
      "Begin training...\n"
     ]
    },
    {
     "data": {
      "image/png": "[encoded data removed]",
      "text/plain": [
       "<matplotlib.figure.Figure at 0x7f3a22a69fd0>"
      ]
     },
     "metadata": {},
     "output_type": "display_data"
    },
    {
     "data": {
      "application/vnd.jupyter.widget-view+json": {
       "model_id": "5c2d0df878bc4237b4f7c336ffe40602"
      }
     },
     "metadata": {},
     "output_type": "display_data"
    },
    {
     "data": {
      "image/png": "[encoded data removed]",
      "text/plain": [
       "<matplotlib.figure.Figure at 0x7f3a244bd390>"
      ]
     },
     "metadata": {},
     "output_type": "display_data"
    },
    {
     "data": {
      "image/png": "[encoded data removed]",
      "text/plain": [
       "<matplotlib.figure.Figure at 0x7f3a214b1898>"
      ]
     },
     "metadata": {},
     "output_type": "display_data"
    }
   ],
   "source": [
    "critParams, gens, mixture = mixtureTrain(x, 3, iters = 50000)"
   ]
  },
  {
   "cell_type": "code",
   "execution_count": 13,
   "metadata": {},
   "outputs": [
    {
     "name": "stdout",
     "output_type": "stream",
     "text": [
      "[  2.34213308e-04   3.33567798e-01   6.66197956e-01]\n"
     ]
    }
   ],
   "source": [
    "print(mixture)"
   ]
  }
 ],
 "metadata": {
  "anaconda-cloud": {},
  "kernelspec": {
   "display_name": "Python [conda env:theano]",
   "language": "python",
   "name": "conda-env-theano-py"
  },
  "language_info": {
   "codemirror_mode": {
    "name": "ipython",
    "version": 3
   },
   "file_extension": ".py",
   "mimetype": "text/x-python",
   "name": "python",
   "nbconvert_exporter": "python",
   "pygments_lexer": "ipython3",
   "version": "3.5.3"
  }
 },
 "nbformat": 4,
 "nbformat_minor": 2
}

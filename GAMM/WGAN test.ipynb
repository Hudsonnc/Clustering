{
 "cells": [
  {
   "cell_type": "markdown",
   "metadata": {},
   "source": [
    "# The Machinery"
   ]
  },
  {
   "cell_type": "markdown",
   "metadata": {},
   "source": [
    "For proof of concept, I consider Gaussian generative models with MLP discriminator. The Gaussian generative models take data from n-dimensional latent space $z \\sim \\mathcal{N}(0, I)$ to arbitrary n-dimensional $\\mathcal{N}(\\mu, \\Sigma)$ by learned affine transformation."
   ]
  },
  {
   "cell_type": "code",
   "execution_count": 1,
   "metadata": {},
   "outputs": [
    {
     "name": "stderr",
     "output_type": "stream",
     "text": [
      "ERROR (theano.gpuarray): Could not initialize pygpu, support disabled\n",
      "Traceback (most recent call last):\n",
      "  File \"/home/hudson/.local/lib/python3.5/site-packages/theano/gpuarray/__init__.py\", line 166, in <module>\n",
      "    use(config.device)\n",
      "  File \"/home/hudson/.local/lib/python3.5/site-packages/theano/gpuarray/__init__.py\", line 153, in use\n",
      "    init_dev(device)\n",
      "  File \"/home/hudson/.local/lib/python3.5/site-packages/theano/gpuarray/__init__.py\", line 60, in init_dev\n",
      "    sched=config.gpuarray.sched)\n",
      "  File \"pygpu/gpuarray.pyx\", line 614, in pygpu.gpuarray.init (pygpu/gpuarray.c:9419)\n",
      "  File \"pygpu/gpuarray.pyx\", line 566, in pygpu.gpuarray.pygpu_init (pygpu/gpuarray.c:9110)\n",
      "  File \"pygpu/gpuarray.pyx\", line 1021, in pygpu.gpuarray.GpuContext.__cinit__ (pygpu/gpuarray.c:13472)\n",
      "pygpu.gpuarray.GpuArrayException: Error loading library: 0\n"
     ]
    }
   ],
   "source": [
    "import numpy as np\n",
    "import theano as theano\n",
    "import theano.tensor as T"
   ]
  },
  {
   "cell_type": "code",
   "execution_count": 2,
   "metadata": {
    "collapsed": true
   },
   "outputs": [],
   "source": [
    "from matplotlib import pyplot as plt\n",
    "%matplotlib inline"
   ]
  },
  {
   "cell_type": "code",
   "execution_count": 3,
   "metadata": {
    "collapsed": true
   },
   "outputs": [],
   "source": [
    "import sys\n",
    "sys.path.append('/home/hudson/Projects/GAMM')\n",
    "from lib.utils import log_progress"
   ]
  },
  {
   "cell_type": "markdown",
   "metadata": {},
   "source": [
    "## Generator"
   ]
  },
  {
   "cell_type": "code",
   "execution_count": 4,
   "metadata": {
    "collapsed": true
   },
   "outputs": [],
   "source": [
    "class GaussianGenerator(object):\n",
    "    def __init__(self, input, ndim= 1, mu=None, sig=None, scale=1):\n",
    "        if mu is None:\n",
    "            mu = scale*np.random.randn(ndim,).astype(theano.config.floatX)\n",
    "        mu = theano.shared(value=mu, name='mu', borrow=True)\n",
    "        if sig is None:\n",
    "            sig = np.random.randn(ndim, ndim).astype(theano.config.floatX)\n",
    "        sig = theano.shared(value=sig, name='sigma', borrow=True)\n",
    "        self.mu = mu\n",
    "        self.sig = sig\n",
    "        \n",
    "        ndim = mu.shape[0].eval()\n",
    "        self.ndim = ndim\n",
    "        \n",
    "        self.params = [self.mu, self.sig]\n",
    "        \n",
    "        self.out = (T.dot(self.sig, input).T + self.mu.T)\n",
    "        \n",
    "    def sample(self, n=1):\n",
    "        z = np.random.randn(self.ndim, n).astype(theano.config.floatX)\n",
    "        out = (T.dot(self.sig, z).T + self.mu.T)\n",
    "        return(out)"
   ]
  },
  {
   "cell_type": "markdown",
   "metadata": {},
   "source": [
    "## Discriminator"
   ]
  },
  {
   "cell_type": "code",
   "execution_count": 5,
   "metadata": {
    "collapsed": true
   },
   "outputs": [],
   "source": [
    "class Hidden(object):\n",
    "    #http://deeplearning.net/tutorial/mlp.html\n",
    "    def __init__(self, input, n_in, n_out, W = None, b = None,\n",
    "                 activation = T.tanh, rng = np.random.RandomState()):\n",
    "        \n",
    "        self.input = input\n",
    "        \n",
    "        if W is None:\n",
    "            W_range = np.sqrt(6. / (n_in + n_out))\n",
    "            W_values = np.asarray(\n",
    "                rng.uniform(\n",
    "                    low = -W_range,\n",
    "                    high = W_range,\n",
    "                    size=(n_in, n_out)\n",
    "                ),\n",
    "                dtype=theano.config.floatX\n",
    "            )\n",
    "            if activation == T.nnet.sigmoid:\n",
    "                W_values *= 4\n",
    "            W = theano.shared(value=W_values, name='W', borrow=True)\n",
    "\n",
    "        if b is None:\n",
    "            b_values = np.zeros((n_out,), dtype=theano.config.floatX)\n",
    "            b = theano.shared(value=b_values, name='b', borrow=True)\n",
    "\n",
    "        self.W = W\n",
    "        self.b = b\n",
    "        \n",
    "        # parameters of the model\n",
    "        self.params = [self.W, self.b]\n",
    "        \n",
    "        lin_output = T.dot(input, self.W) + self.b\n",
    "        self.output = (\n",
    "            lin_output if activation is None\n",
    "            else activation(lin_output)\n",
    "        )"
   ]
  },
  {
   "cell_type": "code",
   "execution_count": 6,
   "metadata": {
    "collapsed": true
   },
   "outputs": [],
   "source": [
    "class LogisticRegression(object):\n",
    "    def __init__(self, input, n_in, n_out, W = None, b = None,\n",
    "                 rng = np.random.RandomState()):\n",
    "        self.input = input\n",
    "        \n",
    "        if W is None:\n",
    "            W_range = np.sqrt(6. / (n_in + n_out))\n",
    "            W_values = np.asarray(\n",
    "                rng.uniform(\n",
    "                    low = -W_range,\n",
    "                    high = W_range,\n",
    "                    size=(n_in, n_out)\n",
    "                ),\n",
    "                dtype=theano.config.floatX\n",
    "            )\n",
    "            W = theano.shared(value=W_values, name='W', borrow=True)\n",
    "\n",
    "        if b is None:\n",
    "            b_values = np.zeros((n_out,), dtype=theano.config.floatX)\n",
    "            b = theano.shared(value=b_values, name='b', borrow=True)\n",
    "\n",
    "        self.W = W\n",
    "        self.b = b\n",
    "        \n",
    "        self.params = [self.W, self.b]\n",
    "        \n",
    "        self.lin = T.dot(input, self.W) + b\n",
    "        \n",
    "        self.p_y = T.nnet.softmax(T.dot(input, self.W) + b)\n",
    "            \n",
    "        self.y_pred = T.argmax(self.p_y, axis=1)"
   ]
  },
  {
   "cell_type": "code",
   "execution_count": 7,
   "metadata": {
    "collapsed": true
   },
   "outputs": [],
   "source": [
    "class MLP(object):\n",
    "    def __init__(self, input, n_in, n_out, n_hidden=300, params = None,\n",
    "                 rng = np.random.RandomState()):\n",
    "        self.input = input\n",
    "        self.n_in = n_in\n",
    "        self.n_out = n_out\n",
    "        self.n_hidden = n_hidden\n",
    "        self.rng = rng\n",
    "        \n",
    "        hidden = Hidden(\n",
    "            input,\n",
    "            n_in, n_hidden,\n",
    "            W = None if params is None else params[0],\n",
    "            b = None if params is None else params[1],\n",
    "            rng = rng\n",
    "        )\n",
    "        self.hidden = hidden\n",
    "        \n",
    "        out = LogisticRegression(\n",
    "            self.hidden.output,\n",
    "            n_hidden, n_out,\n",
    "            W = None if params is None else params[2],\n",
    "            b = None if params is None else params[3],\n",
    "            rng = rng\n",
    "        )\n",
    "        self.out = out\n",
    "        \n",
    "        self.lin = out.lin\n",
    "        self.p_y = out.p_y\n",
    "        self.y_pred = out.y_pred\n",
    "        \n",
    "        self.params = hidden.params + out.params\n",
    "        \n",
    "    def predict(self, x):\n",
    "        mlp = MLP(x, self.n_in, self.n_out, self.n_hidden, self.params, self.rng)\n",
    "        return(mlp.y_pred.eval())"
   ]
  },
  {
   "cell_type": "markdown",
   "metadata": {},
   "source": [
    "##### Distribution to fit. Mixture of Gaussians"
   ]
  },
  {
   "cell_type": "code",
   "execution_count": 8,
   "metadata": {
    "collapsed": true
   },
   "outputs": [],
   "source": [
    "z = T.matrix('z')\n",
    "n = 10000\n",
    "mixture = np.array([1, 1, 1])\n",
    "mixture = mixture/sum(mixture)\n",
    "x = []\n",
    "for proportion in mixture:\n",
    "    g = GaussianGenerator(z,ndim=2, scale = 2*len(mixture)**2)\n",
    "    z = g.sample(int(proportion * n)).eval()\n",
    "    x.append(z)\n",
    "x = np.vstack(x).astype('float32')"
   ]
  },
  {
   "cell_type": "code",
   "execution_count": 9,
   "metadata": {
    "scrolled": false
   },
   "outputs": [
    {
     "data": {
      "text/plain": [
       "<matplotlib.collections.PathCollection at 0x7f09f0f31438>"
      ]
     },
     "execution_count": 9,
     "metadata": {},
     "output_type": "execute_result"
    },
    {
     "data": {
      "image/png": "[encoded data removed]",
      "text/plain": [
       "<matplotlib.figure.Figure at 0x7f09f4a35400>"
      ]
     },
     "metadata": {},
     "output_type": "display_data"
    }
   ],
   "source": [
    "plt.scatter(x[:,0], x[:,1])"
   ]
  },
  {
   "cell_type": "markdown",
   "metadata": {},
   "source": [
    "### Model fitting"
   ]
  },
  {
   "cell_type": "code",
   "execution_count": 10,
   "metadata": {
    "collapsed": true
   },
   "outputs": [],
   "source": [
    "def decision(X, model, h=.05):\n",
    "    # X - some data in 2dimensional np.array\n",
    "    x_min, x_max = X[:, 0].min() - 1, X[:, 0].max() + 1\n",
    "    y_min, y_max = X[:, 1].min() - 1, X[:, 1].max() + 1\n",
    "    xx, yy = np.meshgrid(np.arange(x_min, x_max, h),\n",
    "                         np.arange(y_min, y_max, h))\n",
    "\n",
    "    # here \"model\" is your model's prediction (classification) function\n",
    "    Z = model(np.c_[xx.ravel(), yy.ravel()]) \n",
    "\n",
    "    # Put the result into a color plot\n",
    "    Z = Z.reshape(xx.shape)\n",
    "    plt.contourf(xx, yy, Z, cmap=plt.cm.Paired)\n",
    "    #plt.axis('off')\n",
    "    \n",
    "def plotDecision(X, gens, crit):\n",
    "    gX = []\n",
    "    gY = []\n",
    "    for i in range(len(gens)):\n",
    "        g = gens[i]\n",
    "        z = g.sample(n).eval()\n",
    "        gX.append(z)\n",
    "    gX = np.vstack(gX)\n",
    "\n",
    "    plt.figure()\n",
    "    decision(np.vstack((X, gX)), crit.predict)\n",
    "    plt.scatter(X[:,0], X[:,1])\n",
    "    plt.scatter(gX[:,0], gX[:,1])\n",
    "    plt.show()"
   ]
  },
  {
   "cell_type": "code",
   "execution_count": 11,
   "metadata": {
    "collapsed": true
   },
   "outputs": [],
   "source": [
    "def RMSprop(cost, params, lr=0.00005, rho=0.99, epsilon=1e-8, c=None):\n",
    "    #https://github.com/Newmu/Theano-Tutorials\n",
    "    #rho = .99 is torch default, used in paper\n",
    "    grads = T.grad(cost=cost, wrt=params)\n",
    "    updates = []\n",
    "    for p, g in zip(params, grads):\n",
    "        acc = theano.shared(p.get_value() * 0.)\n",
    "        acc_new = rho * acc + (1 - rho) * g ** 2\n",
    "        gradient_scaling = T.sqrt(acc_new + epsilon)\n",
    "        g = g / gradient_scaling\n",
    "        updates.append((acc, acc_new))\n",
    "        update = p - lr * g if c is None else T.clip(p - lr * g, -c, c)\n",
    "        updates.append((p, update))\n",
    "    return updates\n",
    "\n",
    "def gradDesc(cost, params, lr=.00005, c = None):\n",
    "    grads = T.grad(cost=cost, wrt=params)\n",
    "    updates = []\n",
    "    for p, g in zip(params, grads):\n",
    "        update = p - lr * g if c is None else T.clip(p - lr * g, -c, c)\n",
    "        updates.append((p, update))\n",
    "    return updates"
   ]
  },
  {
   "cell_type": "code",
   "execution_count": 12,
   "metadata": {
    "collapsed": true
   },
   "outputs": [],
   "source": [
    "def train(X, n_hidden = 500,\n",
    "         batch_size = 100, iters = 400, alpha = .0005,\n",
    "         ncrit = 5, c = .01,\n",
    "         rng = np.random.RandomState()):\n",
    "    \n",
    "    x = T.matrix('x')\n",
    "    z = T.matrix('z')\n",
    "\n",
    "    ndim = X.shape[1]    \n",
    "    \n",
    "    print(\"Building model...\")\n",
    "    ################### Generator ###################\n",
    "    \n",
    "    gen = GaussianGenerator(z, ndim=ndim, scale = 50)\n",
    "    genParams = gen.params\n",
    "    genCrit = MLP(gen.out, ndim, 1, n_hidden = n_hidden)\n",
    "    critParams = genCrit.params\n",
    "    realCrit = MLP(x, ndim, 1, n_hidden = n_hidden, params = critParams)\n",
    "\n",
    "    critLoss = -(T.mean(realCrit.lin)\n",
    "                  -T.mean(genCrit.lin))\n",
    "    \n",
    "    genLoss = -T.mean(genCrit.lin)\n",
    "    \n",
    "    critUpdates = RMSprop(critLoss, critParams, lr=alpha, c=c)\n",
    "    genUpdates = RMSprop(genLoss, genParams, lr=alpha)\n",
    "    \n",
    "    trainGen = theano.function(\n",
    "        inputs = [], \n",
    "        outputs = genLoss, \n",
    "        updates = genUpdates,\n",
    "        givens = {z: np.random.randn(X.shape[1], batch_size)\n",
    "                                  .astype(theano.config.floatX)\n",
    "                 }\n",
    "    )\n",
    "        \n",
    "    trainCrit = theano.function(\n",
    "        inputs = [x], \n",
    "        outputs = critLoss, \n",
    "        updates = critUpdates,\n",
    "        givens = {z: np.random.randn(X.shape[1], batch_size)\n",
    "                                  .astype(theano.config.floatX)\n",
    "                 }\n",
    "    )\n",
    "        \n",
    "    #################################################\n",
    "    print(\"Done!\")\n",
    "    \n",
    "    print('Begin training...')\n",
    "    \n",
    "    mixPlot = []\n",
    "    critPlot = []\n",
    "    for iter in log_progress(range(iters), every=100):\n",
    "        if iter % 25000 == 0:\n",
    "            if iter != 0:\n",
    "                plt.figure()\n",
    "                plt.plot(critPlot)\n",
    "                plt.title(\"Generator Critic Losses\")\n",
    "                plt.show()\n",
    "            \n",
    "            plt.figure()\n",
    "            gx = gen.sample(1000).eval()\n",
    "            plt.scatter(X[:,0], X[:,1])\n",
    "            plt.scatter(gx[:,0], gx[:,1])\n",
    "            plt.show()\n",
    "        #gen/crit\n",
    "        iterCrit = []\n",
    "        itercrit = 20*ncrit if n < 25 or n % 500 == 1 else ncrit\n",
    "        for j in range(itercrit-1):\n",
    "            xG = X[rng.randint(X.shape[0], size=batch_size)]\n",
    "            trainCrit(xG)\n",
    "        iterCrit.append(-trainCrit(xG))\n",
    "        trainGen()\n",
    "        critPlot.append(iterCrit)\n",
    "        \n",
    "    #Final Plot\n",
    "    plt.figure()\n",
    "    plt.plot(critPlot)\n",
    "    plt.title(\"Generator Critic Losses\")\n",
    "    plt.show()\n",
    "\n",
    "    plt.figure()\n",
    "    gx = gen.sample(1000).eval()\n",
    "    plt.scatter(X[:,0], X[:,1])\n",
    "    plt.scatter(gx[:,0], gx[:,1])\n",
    "    plt.show()\n",
    "    \n",
    "    return(gen)"
   ]
  },
  {
   "cell_type": "code",
   "execution_count": null,
   "metadata": {
    "scrolled": false
   },
   "outputs": [
    {
     "name": "stdout",
     "output_type": "stream",
     "text": [
      "Building model...\n",
      "Done!\n",
      "Begin training...\n"
     ]
    },
    {
     "data": {
      "application/vnd.jupyter.widget-view+json": {
       "model_id": "07cb5f794f134b89b8536207e299a601"
      }
     },
     "metadata": {},
     "output_type": "display_data"
    },
    {
     "data": {
      "image/png": "[encoded data removed]",
      "text/plain": [
       "<matplotlib.figure.Figure at 0x7f09e7006d68>"
      ]
     },
     "metadata": {},
     "output_type": "display_data"
    },
    {
     "data": {
      "image/png": "[encoded data removed]",
      "text/plain": [
       "<matplotlib.figure.Figure at 0x7f09eca779b0>"
      ]
     },
     "metadata": {},
     "output_type": "display_data"
    },
    {
     "data": {
      "image/png": "[encoded data removed]",
      "text/plain": [
       "<matplotlib.figure.Figure at 0x7f09e7182d30>"
      ]
     },
     "metadata": {},
     "output_type": "display_data"
    },
    {
     "data": {
      "image/png": "[encoded data removed]",
      "text/plain": [
       "<matplotlib.figure.Figure at 0x7f09e8187240>"
      ]
     },
     "metadata": {},
     "output_type": "display_data"
    },
    {
     "data": {
      "image/png": "[encoded data removed]",
      "text/plain": [
       "<matplotlib.figure.Figure at 0x7f09e70ef470>"
      ]
     },
     "metadata": {},
     "output_type": "display_data"
    }
   ],
   "source": [
    "gen = train(x, n_hidden = 500, batch_size = 100, iters = 250000, alpha = .005, ncrit = 5, c = .01)"
   ]
  }
 ],
 "metadata": {
  "anaconda-cloud": {},
  "kernelspec": {
   "display_name": "Python [conda env:theano]",
   "language": "python",
   "name": "conda-env-theano-py"
  },
  "language_info": {
   "codemirror_mode": {
    "name": "ipython",
    "version": 3
   },
   "file_extension": ".py",
   "mimetype": "text/x-python",
   "name": "python",
   "nbconvert_exporter": "python",
   "pygments_lexer": "ipython3",
   "version": "3.5.3"
  }
 },
 "nbformat": 4,
 "nbformat_minor": 2
}
